{
 "cells": [
  {
   "cell_type": "code",
   "execution_count": 662,
   "id": "d295052a",
   "metadata": {
    "slideshow": {
     "slide_type": "skip"
    }
   },
   "outputs": [],
   "source": [
    "import pandas as pd\n",
    "import numpy as np\n",
    "import matplotlib.pyplot as plt\n",
    "import seaborn as sns\n",
    "import plotly.express as px\n",
    "from stargazer.stargazer import Stargazer\n",
    "%matplotlib inline\n",
    "import statsmodels.formula.api as smf\n",
    "import statsmodels.api as sm\n",
    "from statsmodels.api import add_constant\n",
    "import json\n",
    "import geopandas as gpd\n",
    "import plotly.graph_objects as go\n",
    "from sklearn.preprocessing import scale\n",
    "from sklearn.preprocessing import StandardScaler"
   ]
  },
  {
   "cell_type": "code",
   "execution_count": 663,
   "id": "f8d50185",
   "metadata": {
    "slideshow": {
     "slide_type": "skip"
    }
   },
   "outputs": [],
   "source": [
    "df = pd.read_csv(\"data/df_final.csv\")"
   ]
  },
  {
   "cell_type": "code",
   "execution_count": 664,
   "id": "2e9c73f0",
   "metadata": {
    "slideshow": {
     "slide_type": "skip"
    }
   },
   "outputs": [
    {
     "data": {
      "text/html": [
       "<div>\n",
       "<style scoped>\n",
       "    .dataframe tbody tr th:only-of-type {\n",
       "        vertical-align: middle;\n",
       "    }\n",
       "\n",
       "    .dataframe tbody tr th {\n",
       "        vertical-align: top;\n",
       "    }\n",
       "\n",
       "    .dataframe thead th {\n",
       "        text-align: right;\n",
       "    }\n",
       "</style>\n",
       "<table border=\"1\" class=\"dataframe\">\n",
       "  <thead>\n",
       "    <tr style=\"text-align: right;\">\n",
       "      <th></th>\n",
       "      <th>Unnamed: 0</th>\n",
       "      <th>Alter</th>\n",
       "      <th>Einkommen</th>\n",
       "      <th>Geschlecht</th>\n",
       "      <th>Zeit</th>\n",
       "      <th>KundeNr</th>\n",
       "      <th>Preis</th>\n",
       "      <th>Niederlassung</th>\n",
       "    </tr>\n",
       "  </thead>\n",
       "  <tbody>\n",
       "    <tr>\n",
       "      <th>0</th>\n",
       "      <td>0</td>\n",
       "      <td>30</td>\n",
       "      <td>39919</td>\n",
       "      <td>0.0</td>\n",
       "      <td>29</td>\n",
       "      <td>K1814</td>\n",
       "      <td>NaN</td>\n",
       "      <td>Bayern</td>\n",
       "    </tr>\n",
       "    <tr>\n",
       "      <th>1</th>\n",
       "      <td>1</td>\n",
       "      <td>41</td>\n",
       "      <td>53430</td>\n",
       "      <td>0.0</td>\n",
       "      <td>27</td>\n",
       "      <td>K1544</td>\n",
       "      <td>NaN</td>\n",
       "      <td>Baden-Württemberg</td>\n",
       "    </tr>\n",
       "    <tr>\n",
       "      <th>2</th>\n",
       "      <td>2</td>\n",
       "      <td>64</td>\n",
       "      <td>73163</td>\n",
       "      <td>0.0</td>\n",
       "      <td>32</td>\n",
       "      <td>K1945</td>\n",
       "      <td>NaN</td>\n",
       "      <td>Baden-Württemberg</td>\n",
       "    </tr>\n",
       "    <tr>\n",
       "      <th>3</th>\n",
       "      <td>3</td>\n",
       "      <td>41</td>\n",
       "      <td>36761</td>\n",
       "      <td>0.0</td>\n",
       "      <td>44</td>\n",
       "      <td>K1825</td>\n",
       "      <td>NaN</td>\n",
       "      <td>Baden-Württemberg</td>\n",
       "    </tr>\n",
       "    <tr>\n",
       "      <th>4</th>\n",
       "      <td>4</td>\n",
       "      <td>35</td>\n",
       "      <td>42684</td>\n",
       "      <td>1.0</td>\n",
       "      <td>33</td>\n",
       "      <td>K1144</td>\n",
       "      <td>NaN</td>\n",
       "      <td>Nordrhein-Westfalen</td>\n",
       "    </tr>\n",
       "  </tbody>\n",
       "</table>\n",
       "</div>"
      ],
      "text/plain": [
       "   Unnamed: 0  Alter  Einkommen  Geschlecht  Zeit KundeNr  Preis  \\\n",
       "0           0     30      39919         0.0    29   K1814    NaN   \n",
       "1           1     41      53430         0.0    27   K1544    NaN   \n",
       "2           2     64      73163         0.0    32   K1945    NaN   \n",
       "3           3     41      36761         0.0    44   K1825    NaN   \n",
       "4           4     35      42684         1.0    33   K1144    NaN   \n",
       "\n",
       "         Niederlassung  \n",
       "0               Bayern  \n",
       "1    Baden-Württemberg  \n",
       "2    Baden-Württemberg  \n",
       "3    Baden-Württemberg  \n",
       "4  Nordrhein-Westfalen  "
      ]
     },
     "execution_count": 664,
     "metadata": {},
     "output_type": "execute_result"
    }
   ],
   "source": [
    "df.head()"
   ]
  },
  {
   "cell_type": "markdown",
   "id": "e67bfe30",
   "metadata": {
    "slideshow": {
     "slide_type": "slide"
    }
   },
   "source": [
    "<font size = \"7.5\"> Abschlusspraesentation </font>\n",
    "\n",
    "<i>Einfuehrung in Python fuer Data Analytics</i>\n",
    "\n",
    "<i>HWR Berlin, Wintersemester 2023-2024</i>\n",
    "\n",
    "<i>Goekan Goerer und David Kryzanovskij </i>"
   ]
  },
  {
   "cell_type": "markdown",
   "id": "295b4191",
   "metadata": {
    "slideshow": {
     "slide_type": "slide"
    }
   },
   "source": [
    "# 1. Wie viele Autos wurden verkauft?"
   ]
  },
  {
   "cell_type": "code",
   "execution_count": 665,
   "id": "8da62957",
   "metadata": {
    "slideshow": {
     "slide_type": "fragment"
    }
   },
   "outputs": [
    {
     "name": "stdout",
     "output_type": "stream",
     "text": [
      "Es wurden insgesamt 1104 verkauft\n"
     ]
    }
   ],
   "source": [
    "Anzahl_Autos = df[\"Preis\"].notna().sum()\n",
    "print(\"Es wurden insgesamt\", Anzahl_Autos, \"verkauft\")"
   ]
  },
  {
   "cell_type": "markdown",
   "id": "df2a4191",
   "metadata": {
    "slideshow": {
     "slide_type": "slide"
    }
   },
   "source": [
    "# 2. Was ist der Höchst-, Mindest- und Durchschnittspreis der verkauften Autos?"
   ]
  },
  {
   "cell_type": "code",
   "execution_count": 666,
   "id": "dc8c05fe",
   "metadata": {
    "slideshow": {
     "slide_type": "fragment"
    }
   },
   "outputs": [
    {
     "name": "stdout",
     "output_type": "stream",
     "text": [
      "Der Höchstpreis betrug 165482.31\n",
      "Der Mindestpreis betrug 21471.65\n",
      "Der Durchschnittspreis betrug 88975.19871376811\n"
     ]
    }
   ],
   "source": [
    "Hoechst_Preis = df[\"Preis\"].max()\n",
    "print(\"Der Höchstpreis betrug\", Hoechst_Preis )\n",
    "\n",
    "Mindest_Preis = df[\"Preis\"].min()\n",
    "print(\"Der Mindestpreis betrug\", Mindest_Preis)\n",
    "\n",
    "AVG_Preis = df[\"Preis\"].mean()\n",
    "print(\"Der Durchschnittspreis betrug\", AVG_Preis )"
   ]
  },
  {
   "cell_type": "markdown",
   "id": "58b8bef4",
   "metadata": {
    "slideshow": {
     "slide_type": "slide"
    }
   },
   "source": [
    "# 3. Wie hoch war der Gesamtumsatz?"
   ]
  },
  {
   "cell_type": "code",
   "execution_count": 667,
   "id": "a7c841e1",
   "metadata": {
    "slideshow": {
     "slide_type": "fragment"
    }
   },
   "outputs": [
    {
     "name": "stdout",
     "output_type": "stream",
     "text": [
      "Der Gesamtumsatz beträgt 98228619.38\n"
     ]
    }
   ],
   "source": [
    "Gesamt_Umsatz = df[\"Preis\"].sum()\n",
    "print(\"Der Gesamtumsatz beträgt\", Gesamt_Umsatz)"
   ]
  },
  {
   "cell_type": "markdown",
   "id": "3c866de3",
   "metadata": {
    "slideshow": {
     "slide_type": "slide"
    }
   },
   "source": [
    "# 4. Wie viele Autos wurden pro Bundesland verkauft?"
   ]
  },
  {
   "cell_type": "code",
   "execution_count": 668,
   "id": "0532b1d6",
   "metadata": {
    "slideshow": {
     "slide_type": "fragment"
    }
   },
   "outputs": [
    {
     "data": {
      "text/plain": [
       "Niederlassung\n",
       "Baden-Württemberg      205\n",
       "Bayern                 188\n",
       "Berlin                 126\n",
       "Brandenburg             37\n",
       "Düsseldorf               1\n",
       "Hamburg                 43\n",
       "Hessen                  96\n",
       "Niedersachsen           96\n",
       "Nordrhein-Westfalen    174\n",
       "Sachsen                 89\n",
       "Thüringen               49\n",
       "Name: Preis, dtype: int64"
      ]
     },
     "execution_count": 668,
     "metadata": {},
     "output_type": "execute_result"
    }
   ],
   "source": [
    "autos_pro_bundesland = df.groupby('Niederlassung')['Preis'].count()\n",
    "autos_pro_bundesland"
   ]
  },
  {
   "cell_type": "code",
   "execution_count": 669,
   "id": "e18d1acc",
   "metadata": {
    "slideshow": {
     "slide_type": "skip"
    }
   },
   "outputs": [
    {
     "data": {
      "text/html": [
       "<div>\n",
       "<style scoped>\n",
       "    .dataframe tbody tr th:only-of-type {\n",
       "        vertical-align: middle;\n",
       "    }\n",
       "\n",
       "    .dataframe tbody tr th {\n",
       "        vertical-align: top;\n",
       "    }\n",
       "\n",
       "    .dataframe thead th {\n",
       "        text-align: right;\n",
       "    }\n",
       "</style>\n",
       "<table border=\"1\" class=\"dataframe\">\n",
       "  <thead>\n",
       "    <tr style=\"text-align: right;\">\n",
       "      <th></th>\n",
       "      <th>ID_0</th>\n",
       "      <th>ISO</th>\n",
       "      <th>NAME_0</th>\n",
       "      <th>ID_1</th>\n",
       "      <th>NAME_1</th>\n",
       "      <th>NL_NAME_1</th>\n",
       "      <th>VARNAME_1</th>\n",
       "      <th>TYPE_1</th>\n",
       "      <th>ENGTYPE_1</th>\n",
       "      <th>geometry</th>\n",
       "    </tr>\n",
       "  </thead>\n",
       "  <tbody>\n",
       "    <tr>\n",
       "      <th>0</th>\n",
       "      <td>86</td>\n",
       "      <td>DEU</td>\n",
       "      <td>Germany</td>\n",
       "      <td>1</td>\n",
       "      <td>Baden-Württemberg</td>\n",
       "      <td>None</td>\n",
       "      <td>None</td>\n",
       "      <td>Land</td>\n",
       "      <td>State</td>\n",
       "      <td>MULTIPOLYGON (((9.65046 49.77634, 9.65684 49.7...</td>\n",
       "    </tr>\n",
       "    <tr>\n",
       "      <th>1</th>\n",
       "      <td>86</td>\n",
       "      <td>DEU</td>\n",
       "      <td>Germany</td>\n",
       "      <td>2</td>\n",
       "      <td>Bayern</td>\n",
       "      <td>None</td>\n",
       "      <td>Bavaria</td>\n",
       "      <td>Land</td>\n",
       "      <td>State</td>\n",
       "      <td>POLYGON ((10.13386 50.55000, 10.13980 50.54252...</td>\n",
       "    </tr>\n",
       "    <tr>\n",
       "      <th>2</th>\n",
       "      <td>86</td>\n",
       "      <td>DEU</td>\n",
       "      <td>Germany</td>\n",
       "      <td>3</td>\n",
       "      <td>Berlin</td>\n",
       "      <td>None</td>\n",
       "      <td>None</td>\n",
       "      <td>Land</td>\n",
       "      <td>State</td>\n",
       "      <td>POLYGON ((13.16181 52.59442, 13.21621 52.58252...</td>\n",
       "    </tr>\n",
       "    <tr>\n",
       "      <th>3</th>\n",
       "      <td>86</td>\n",
       "      <td>DEU</td>\n",
       "      <td>Germany</td>\n",
       "      <td>4</td>\n",
       "      <td>Brandenburg</td>\n",
       "      <td>None</td>\n",
       "      <td>None</td>\n",
       "      <td>Land</td>\n",
       "      <td>State</td>\n",
       "      <td>POLYGON ((13.87951 53.50107, 13.87310 53.49915...</td>\n",
       "    </tr>\n",
       "    <tr>\n",
       "      <th>4</th>\n",
       "      <td>86</td>\n",
       "      <td>DEU</td>\n",
       "      <td>Germany</td>\n",
       "      <td>5</td>\n",
       "      <td>Bremen</td>\n",
       "      <td>None</td>\n",
       "      <td>None</td>\n",
       "      <td>Land</td>\n",
       "      <td>State</td>\n",
       "      <td>POLYGON ((8.98545 53.12822, 8.94874 53.12380, ...</td>\n",
       "    </tr>\n",
       "  </tbody>\n",
       "</table>\n",
       "</div>"
      ],
      "text/plain": [
       "   ID_0  ISO   NAME_0  ID_1             NAME_1 NL_NAME_1 VARNAME_1 TYPE_1  \\\n",
       "0    86  DEU  Germany     1  Baden-Württemberg      None      None   Land   \n",
       "1    86  DEU  Germany     2             Bayern      None   Bavaria   Land   \n",
       "2    86  DEU  Germany     3             Berlin      None      None   Land   \n",
       "3    86  DEU  Germany     4        Brandenburg      None      None   Land   \n",
       "4    86  DEU  Germany     5             Bremen      None      None   Land   \n",
       "\n",
       "  ENGTYPE_1                                           geometry  \n",
       "0     State  MULTIPOLYGON (((9.65046 49.77634, 9.65684 49.7...  \n",
       "1     State  POLYGON ((10.13386 50.55000, 10.13980 50.54252...  \n",
       "2     State  POLYGON ((13.16181 52.59442, 13.21621 52.58252...  \n",
       "3     State  POLYGON ((13.87951 53.50107, 13.87310 53.49915...  \n",
       "4     State  POLYGON ((8.98545 53.12822, 8.94874 53.12380, ...  "
      ]
     },
     "execution_count": 669,
     "metadata": {},
     "output_type": "execute_result"
    }
   ],
   "source": [
    "germany_map = gpd.read_file(\"data/polygons.json\")\n",
    "germany_map.head()"
   ]
  },
  {
   "cell_type": "code",
   "execution_count": 670,
   "id": "ab092f0d",
   "metadata": {
    "slideshow": {
     "slide_type": "skip"
    }
   },
   "outputs": [
    {
     "data": {
      "text/html": [
       "<div>\n",
       "<style scoped>\n",
       "    .dataframe tbody tr th:only-of-type {\n",
       "        vertical-align: middle;\n",
       "    }\n",
       "\n",
       "    .dataframe tbody tr th {\n",
       "        vertical-align: top;\n",
       "    }\n",
       "\n",
       "    .dataframe thead th {\n",
       "        text-align: right;\n",
       "    }\n",
       "</style>\n",
       "<table border=\"1\" class=\"dataframe\">\n",
       "  <thead>\n",
       "    <tr style=\"text-align: right;\">\n",
       "      <th></th>\n",
       "      <th>ID_0</th>\n",
       "      <th>ISO</th>\n",
       "      <th>NAME_0</th>\n",
       "      <th>ID_1</th>\n",
       "      <th>id</th>\n",
       "      <th>NL_NAME_1</th>\n",
       "      <th>VARNAME_1</th>\n",
       "      <th>TYPE_1</th>\n",
       "      <th>ENGTYPE_1</th>\n",
       "      <th>geometry</th>\n",
       "    </tr>\n",
       "  </thead>\n",
       "  <tbody>\n",
       "    <tr>\n",
       "      <th>0</th>\n",
       "      <td>86</td>\n",
       "      <td>DEU</td>\n",
       "      <td>Germany</td>\n",
       "      <td>1</td>\n",
       "      <td>Baden-Württemberg</td>\n",
       "      <td>None</td>\n",
       "      <td>None</td>\n",
       "      <td>Land</td>\n",
       "      <td>State</td>\n",
       "      <td>MULTIPOLYGON (((9.65046 49.77634, 9.65684 49.7...</td>\n",
       "    </tr>\n",
       "    <tr>\n",
       "      <th>1</th>\n",
       "      <td>86</td>\n",
       "      <td>DEU</td>\n",
       "      <td>Germany</td>\n",
       "      <td>2</td>\n",
       "      <td>Bayern</td>\n",
       "      <td>None</td>\n",
       "      <td>Bavaria</td>\n",
       "      <td>Land</td>\n",
       "      <td>State</td>\n",
       "      <td>POLYGON ((10.13386 50.55000, 10.13980 50.54252...</td>\n",
       "    </tr>\n",
       "    <tr>\n",
       "      <th>2</th>\n",
       "      <td>86</td>\n",
       "      <td>DEU</td>\n",
       "      <td>Germany</td>\n",
       "      <td>3</td>\n",
       "      <td>Berlin</td>\n",
       "      <td>None</td>\n",
       "      <td>None</td>\n",
       "      <td>Land</td>\n",
       "      <td>State</td>\n",
       "      <td>POLYGON ((13.16181 52.59442, 13.21621 52.58252...</td>\n",
       "    </tr>\n",
       "    <tr>\n",
       "      <th>3</th>\n",
       "      <td>86</td>\n",
       "      <td>DEU</td>\n",
       "      <td>Germany</td>\n",
       "      <td>4</td>\n",
       "      <td>Brandenburg</td>\n",
       "      <td>None</td>\n",
       "      <td>None</td>\n",
       "      <td>Land</td>\n",
       "      <td>State</td>\n",
       "      <td>POLYGON ((13.87951 53.50107, 13.87310 53.49915...</td>\n",
       "    </tr>\n",
       "    <tr>\n",
       "      <th>4</th>\n",
       "      <td>86</td>\n",
       "      <td>DEU</td>\n",
       "      <td>Germany</td>\n",
       "      <td>5</td>\n",
       "      <td>Bremen</td>\n",
       "      <td>None</td>\n",
       "      <td>None</td>\n",
       "      <td>Land</td>\n",
       "      <td>State</td>\n",
       "      <td>POLYGON ((8.98545 53.12822, 8.94874 53.12380, ...</td>\n",
       "    </tr>\n",
       "  </tbody>\n",
       "</table>\n",
       "</div>"
      ],
      "text/plain": [
       "   ID_0  ISO   NAME_0  ID_1                 id NL_NAME_1 VARNAME_1 TYPE_1  \\\n",
       "0    86  DEU  Germany     1  Baden-Württemberg      None      None   Land   \n",
       "1    86  DEU  Germany     2             Bayern      None   Bavaria   Land   \n",
       "2    86  DEU  Germany     3             Berlin      None      None   Land   \n",
       "3    86  DEU  Germany     4        Brandenburg      None      None   Land   \n",
       "4    86  DEU  Germany     5             Bremen      None      None   Land   \n",
       "\n",
       "  ENGTYPE_1                                           geometry  \n",
       "0     State  MULTIPOLYGON (((9.65046 49.77634, 9.65684 49.7...  \n",
       "1     State  POLYGON ((10.13386 50.55000, 10.13980 50.54252...  \n",
       "2     State  POLYGON ((13.16181 52.59442, 13.21621 52.58252...  \n",
       "3     State  POLYGON ((13.87951 53.50107, 13.87310 53.49915...  \n",
       "4     State  POLYGON ((8.98545 53.12822, 8.94874 53.12380, ...  "
      ]
     },
     "execution_count": 670,
     "metadata": {},
     "output_type": "execute_result"
    }
   ],
   "source": [
    "germany_map = germany_map.rename(columns={\"NAME_1\":\"id\"})\n",
    "germany_map.head()"
   ]
  },
  {
   "cell_type": "code",
   "execution_count": 671,
   "id": "d2ad67a0",
   "metadata": {
    "slideshow": {
     "slide_type": "skip"
    }
   },
   "outputs": [
    {
     "data": {
      "text/html": [
       "<div>\n",
       "<style scoped>\n",
       "    .dataframe tbody tr th:only-of-type {\n",
       "        vertical-align: middle;\n",
       "    }\n",
       "\n",
       "    .dataframe tbody tr th {\n",
       "        vertical-align: top;\n",
       "    }\n",
       "\n",
       "    .dataframe thead th {\n",
       "        text-align: right;\n",
       "    }\n",
       "</style>\n",
       "<table border=\"1\" class=\"dataframe\">\n",
       "  <thead>\n",
       "    <tr style=\"text-align: right;\">\n",
       "      <th></th>\n",
       "      <th>id</th>\n",
       "      <th>geometry</th>\n",
       "    </tr>\n",
       "  </thead>\n",
       "  <tbody>\n",
       "    <tr>\n",
       "      <th>0</th>\n",
       "      <td>Baden-Württemberg</td>\n",
       "      <td>MULTIPOLYGON (((9.65046 49.77634, 9.65684 49.7...</td>\n",
       "    </tr>\n",
       "    <tr>\n",
       "      <th>1</th>\n",
       "      <td>Bayern</td>\n",
       "      <td>POLYGON ((10.13386 50.55000, 10.13980 50.54252...</td>\n",
       "    </tr>\n",
       "    <tr>\n",
       "      <th>2</th>\n",
       "      <td>Berlin</td>\n",
       "      <td>POLYGON ((13.16181 52.59442, 13.21621 52.58252...</td>\n",
       "    </tr>\n",
       "    <tr>\n",
       "      <th>3</th>\n",
       "      <td>Brandenburg</td>\n",
       "      <td>POLYGON ((13.87951 53.50107, 13.87310 53.49915...</td>\n",
       "    </tr>\n",
       "    <tr>\n",
       "      <th>4</th>\n",
       "      <td>Bremen</td>\n",
       "      <td>POLYGON ((8.98545 53.12822, 8.94874 53.12380, ...</td>\n",
       "    </tr>\n",
       "  </tbody>\n",
       "</table>\n",
       "</div>"
      ],
      "text/plain": [
       "                  id                                           geometry\n",
       "0  Baden-Württemberg  MULTIPOLYGON (((9.65046 49.77634, 9.65684 49.7...\n",
       "1             Bayern  POLYGON ((10.13386 50.55000, 10.13980 50.54252...\n",
       "2             Berlin  POLYGON ((13.16181 52.59442, 13.21621 52.58252...\n",
       "3        Brandenburg  POLYGON ((13.87951 53.50107, 13.87310 53.49915...\n",
       "4             Bremen  POLYGON ((8.98545 53.12822, 8.94874 53.12380, ..."
      ]
     },
     "execution_count": 671,
     "metadata": {},
     "output_type": "execute_result"
    }
   ],
   "source": [
    "germany_map = germany_map.loc[:, [\"id\", \"geometry\"]]\n",
    "germany_map.head()"
   ]
  },
  {
   "cell_type": "code",
   "execution_count": 672,
   "id": "6435bae9",
   "metadata": {
    "slideshow": {
     "slide_type": "skip"
    }
   },
   "outputs": [
    {
     "data": {
      "text/html": [
       "<div>\n",
       "<style scoped>\n",
       "    .dataframe tbody tr th:only-of-type {\n",
       "        vertical-align: middle;\n",
       "    }\n",
       "\n",
       "    .dataframe tbody tr th {\n",
       "        vertical-align: top;\n",
       "    }\n",
       "\n",
       "    .dataframe thead th {\n",
       "        text-align: right;\n",
       "    }\n",
       "</style>\n",
       "<table border=\"1\" class=\"dataframe\">\n",
       "  <thead>\n",
       "    <tr style=\"text-align: right;\">\n",
       "      <th></th>\n",
       "      <th>id</th>\n",
       "      <th>Anzahl der Verkäufe</th>\n",
       "    </tr>\n",
       "  </thead>\n",
       "  <tbody>\n",
       "    <tr>\n",
       "      <th>0</th>\n",
       "      <td>Baden-Württemberg</td>\n",
       "      <td>205</td>\n",
       "    </tr>\n",
       "    <tr>\n",
       "      <th>1</th>\n",
       "      <td>Bayern</td>\n",
       "      <td>188</td>\n",
       "    </tr>\n",
       "    <tr>\n",
       "      <th>2</th>\n",
       "      <td>Berlin</td>\n",
       "      <td>126</td>\n",
       "    </tr>\n",
       "    <tr>\n",
       "      <th>3</th>\n",
       "      <td>Brandenburg</td>\n",
       "      <td>37</td>\n",
       "    </tr>\n",
       "    <tr>\n",
       "      <th>4</th>\n",
       "      <td>Düsseldorf</td>\n",
       "      <td>1</td>\n",
       "    </tr>\n",
       "    <tr>\n",
       "      <th>5</th>\n",
       "      <td>Hamburg</td>\n",
       "      <td>43</td>\n",
       "    </tr>\n",
       "    <tr>\n",
       "      <th>6</th>\n",
       "      <td>Hessen</td>\n",
       "      <td>96</td>\n",
       "    </tr>\n",
       "    <tr>\n",
       "      <th>7</th>\n",
       "      <td>Niedersachsen</td>\n",
       "      <td>96</td>\n",
       "    </tr>\n",
       "    <tr>\n",
       "      <th>8</th>\n",
       "      <td>Nordrhein-Westfalen</td>\n",
       "      <td>174</td>\n",
       "    </tr>\n",
       "    <tr>\n",
       "      <th>9</th>\n",
       "      <td>Sachsen</td>\n",
       "      <td>89</td>\n",
       "    </tr>\n",
       "    <tr>\n",
       "      <th>10</th>\n",
       "      <td>Thüringen</td>\n",
       "      <td>49</td>\n",
       "    </tr>\n",
       "  </tbody>\n",
       "</table>\n",
       "</div>"
      ],
      "text/plain": [
       "                     id  Anzahl der Verkäufe\n",
       "0     Baden-Württemberg                  205\n",
       "1                Bayern                  188\n",
       "2                Berlin                  126\n",
       "3           Brandenburg                   37\n",
       "4            Düsseldorf                    1\n",
       "5               Hamburg                   43\n",
       "6                Hessen                   96\n",
       "7         Niedersachsen                   96\n",
       "8   Nordrhein-Westfalen                  174\n",
       "9               Sachsen                   89\n",
       "10            Thüringen                   49"
      ]
     },
     "execution_count": 672,
     "metadata": {},
     "output_type": "execute_result"
    }
   ],
   "source": [
    "data = {\n",
    "    'id': ['Baden-Württemberg', 'Bayern', 'Berlin', 'Brandenburg', 'Düsseldorf', 'Hamburg', 'Hessen', 'Niedersachsen', 'Nordrhein-Westfalen', 'Sachsen', 'Thüringen'],\n",
    "    'Anzahl der Verkäufe': [205, 188, 126, 37, 1, 43, 96, 96, 174, 89, 49]\n",
    "}\n",
    "germany_info = pd.DataFrame(data)\n",
    "germany_info"
   ]
  },
  {
   "cell_type": "code",
   "execution_count": 673,
   "id": "82031223",
   "metadata": {
    "slideshow": {
     "slide_type": "skip"
    }
   },
   "outputs": [
    {
     "data": {
      "text/html": [
       "<div>\n",
       "<style scoped>\n",
       "    .dataframe tbody tr th:only-of-type {\n",
       "        vertical-align: middle;\n",
       "    }\n",
       "\n",
       "    .dataframe tbody tr th {\n",
       "        vertical-align: top;\n",
       "    }\n",
       "\n",
       "    .dataframe thead th {\n",
       "        text-align: right;\n",
       "    }\n",
       "</style>\n",
       "<table border=\"1\" class=\"dataframe\">\n",
       "  <thead>\n",
       "    <tr style=\"text-align: right;\">\n",
       "      <th></th>\n",
       "      <th>id</th>\n",
       "      <th>geometry</th>\n",
       "      <th>Anzahl der Verkäufe</th>\n",
       "    </tr>\n",
       "  </thead>\n",
       "  <tbody>\n",
       "    <tr>\n",
       "      <th>0</th>\n",
       "      <td>Baden-Württemberg</td>\n",
       "      <td>MULTIPOLYGON (((9.65046 49.77634, 9.65684 49.7...</td>\n",
       "      <td>205</td>\n",
       "    </tr>\n",
       "    <tr>\n",
       "      <th>1</th>\n",
       "      <td>Bayern</td>\n",
       "      <td>POLYGON ((10.13386 50.55000, 10.13980 50.54252...</td>\n",
       "      <td>188</td>\n",
       "    </tr>\n",
       "    <tr>\n",
       "      <th>2</th>\n",
       "      <td>Berlin</td>\n",
       "      <td>POLYGON ((13.16181 52.59442, 13.21621 52.58252...</td>\n",
       "      <td>126</td>\n",
       "    </tr>\n",
       "    <tr>\n",
       "      <th>3</th>\n",
       "      <td>Brandenburg</td>\n",
       "      <td>POLYGON ((13.87951 53.50107, 13.87310 53.49915...</td>\n",
       "      <td>37</td>\n",
       "    </tr>\n",
       "    <tr>\n",
       "      <th>4</th>\n",
       "      <td>Hamburg</td>\n",
       "      <td>POLYGON ((10.07162 53.71823, 10.08402 53.72935...</td>\n",
       "      <td>43</td>\n",
       "    </tr>\n",
       "    <tr>\n",
       "      <th>5</th>\n",
       "      <td>Hessen</td>\n",
       "      <td>POLYGON ((9.49877 51.63152, 9.52809 51.62835, ...</td>\n",
       "      <td>96</td>\n",
       "    </tr>\n",
       "    <tr>\n",
       "      <th>6</th>\n",
       "      <td>Niedersachsen</td>\n",
       "      <td>MULTIPOLYGON (((8.68083 53.89208, 8.68917 53.8...</td>\n",
       "      <td>96</td>\n",
       "    </tr>\n",
       "    <tr>\n",
       "      <th>7</th>\n",
       "      <td>Nordrhein-Westfalen</td>\n",
       "      <td>POLYGON ((8.66628 52.52528, 8.67277 52.51795, ...</td>\n",
       "      <td>174</td>\n",
       "    </tr>\n",
       "    <tr>\n",
       "      <th>8</th>\n",
       "      <td>Sachsen</td>\n",
       "      <td>POLYGON ((12.87800 51.67270, 12.87158 51.66171...</td>\n",
       "      <td>89</td>\n",
       "    </tr>\n",
       "    <tr>\n",
       "      <th>9</th>\n",
       "      <td>Thüringen</td>\n",
       "      <td>POLYGON ((10.77189 51.64491, 10.81994 51.64079...</td>\n",
       "      <td>49</td>\n",
       "    </tr>\n",
       "  </tbody>\n",
       "</table>\n",
       "</div>"
      ],
      "text/plain": [
       "                    id                                           geometry  \\\n",
       "0    Baden-Württemberg  MULTIPOLYGON (((9.65046 49.77634, 9.65684 49.7...   \n",
       "1               Bayern  POLYGON ((10.13386 50.55000, 10.13980 50.54252...   \n",
       "2               Berlin  POLYGON ((13.16181 52.59442, 13.21621 52.58252...   \n",
       "3          Brandenburg  POLYGON ((13.87951 53.50107, 13.87310 53.49915...   \n",
       "4              Hamburg  POLYGON ((10.07162 53.71823, 10.08402 53.72935...   \n",
       "5               Hessen  POLYGON ((9.49877 51.63152, 9.52809 51.62835, ...   \n",
       "6        Niedersachsen  MULTIPOLYGON (((8.68083 53.89208, 8.68917 53.8...   \n",
       "7  Nordrhein-Westfalen  POLYGON ((8.66628 52.52528, 8.67277 52.51795, ...   \n",
       "8              Sachsen  POLYGON ((12.87800 51.67270, 12.87158 51.66171...   \n",
       "9            Thüringen  POLYGON ((10.77189 51.64491, 10.81994 51.64079...   \n",
       "\n",
       "   Anzahl der Verkäufe  \n",
       "0                  205  \n",
       "1                  188  \n",
       "2                  126  \n",
       "3                   37  \n",
       "4                   43  \n",
       "5                   96  \n",
       "6                   96  \n",
       "7                  174  \n",
       "8                   89  \n",
       "9                   49  "
      ]
     },
     "execution_count": 673,
     "metadata": {},
     "output_type": "execute_result"
    }
   ],
   "source": [
    "germany_map_merged = pd.merge(germany_map, germany_info)\n",
    "germany_map_merged"
   ]
  },
  {
   "cell_type": "code",
   "execution_count": 674,
   "id": "6ef433c1",
   "metadata": {
    "slideshow": {
     "slide_type": "subslide"
    }
   },
   "outputs": [
    {
     "data": {
      "image/png": "[encoded data removed]",
      "text/plain": [
       "<Figure size 1000x600 with 2 Axes>"
      ]
     },
     "metadata": {},
     "output_type": "display_data"
    }
   ],
   "source": [
    "fig, ax = plt.subplots(1, figsize = (10, 6))\n",
    "germany_map_merged.plot(column = \"Anzahl der Verkäufe\", ax = ax,\n",
    "                        cmap = \"Greens\", legend = True)\n",
    "\n",
    "ax.axis(\"off\")\n",
    "ax.set_title(\"Anzahl verkaufter Modelle nach Bundesland\")\n",
    "plt.show();"
   ]
  },
  {
   "cell_type": "markdown",
   "id": "62240f61",
   "metadata": {
    "slideshow": {
     "slide_type": "slide"
    }
   },
   "source": [
    "# 5. Wie hoch war der durchschnittliche Umsatz pro Bundesland?"
   ]
  },
  {
   "cell_type": "code",
   "execution_count": 675,
   "id": "82c2809c",
   "metadata": {
    "slideshow": {
     "slide_type": "fragment"
    }
   },
   "outputs": [
    {
     "data": {
      "text/plain": [
       "Niederlassung\n",
       "Baden-Württemberg       90969.560000\n",
       "Bayern                  89344.313245\n",
       "Berlin                  89584.984048\n",
       "Brandenburg             86673.640811\n",
       "Düsseldorf             120215.500000\n",
       "Hamburg                 85549.499070\n",
       "Hessen                  85864.929479\n",
       "Niedersachsen           87963.312500\n",
       "Nordrhein-Westfalen     88451.758103\n",
       "Sachsen                 89455.080674\n",
       "Thüringen               90816.994082\n",
       "Name: Preis, dtype: float64"
      ]
     },
     "execution_count": 675,
     "metadata": {},
     "output_type": "execute_result"
    }
   ],
   "source": [
    "auto_preis_pro_bundesland = df.groupby('Niederlassung')['Preis'].mean()\n",
    "auto_preis_pro_bundesland"
   ]
  },
  {
   "cell_type": "code",
   "execution_count": 676,
   "id": "444fc0f2",
   "metadata": {
    "slideshow": {
     "slide_type": "skip"
    }
   },
   "outputs": [],
   "source": [
    "germany_map = gpd.read_file(\"data/polygons.json\")"
   ]
  },
  {
   "cell_type": "code",
   "execution_count": 677,
   "id": "0d6cb6b2",
   "metadata": {
    "slideshow": {
     "slide_type": "skip"
    }
   },
   "outputs": [],
   "source": [
    "germany_map = germany_map.rename(columns={\"NAME_1\":\"id\"})"
   ]
  },
  {
   "cell_type": "code",
   "execution_count": 678,
   "id": "14df39ea",
   "metadata": {
    "slideshow": {
     "slide_type": "skip"
    }
   },
   "outputs": [],
   "source": [
    "germany_map = germany_map.loc[:, [\"id\", \"geometry\"]]"
   ]
  },
  {
   "cell_type": "code",
   "execution_count": 679,
   "id": "c2752ea8",
   "metadata": {
    "slideshow": {
     "slide_type": "skip"
    }
   },
   "outputs": [
    {
     "data": {
      "text/html": [
       "<div>\n",
       "<style scoped>\n",
       "    .dataframe tbody tr th:only-of-type {\n",
       "        vertical-align: middle;\n",
       "    }\n",
       "\n",
       "    .dataframe tbody tr th {\n",
       "        vertical-align: top;\n",
       "    }\n",
       "\n",
       "    .dataframe thead th {\n",
       "        text-align: right;\n",
       "    }\n",
       "</style>\n",
       "<table border=\"1\" class=\"dataframe\">\n",
       "  <thead>\n",
       "    <tr style=\"text-align: right;\">\n",
       "      <th></th>\n",
       "      <th>id</th>\n",
       "      <th>Preis</th>\n",
       "    </tr>\n",
       "  </thead>\n",
       "  <tbody>\n",
       "    <tr>\n",
       "      <th>0</th>\n",
       "      <td>Baden-Württemberg</td>\n",
       "      <td>90969.560000</td>\n",
       "    </tr>\n",
       "    <tr>\n",
       "      <th>1</th>\n",
       "      <td>Bayern</td>\n",
       "      <td>89344.313245</td>\n",
       "    </tr>\n",
       "    <tr>\n",
       "      <th>2</th>\n",
       "      <td>Berlin</td>\n",
       "      <td>89584.984048</td>\n",
       "    </tr>\n",
       "    <tr>\n",
       "      <th>3</th>\n",
       "      <td>Brandenburg</td>\n",
       "      <td>86673.640811</td>\n",
       "    </tr>\n",
       "    <tr>\n",
       "      <th>4</th>\n",
       "      <td>Düsseldorf</td>\n",
       "      <td>120215.500000</td>\n",
       "    </tr>\n",
       "    <tr>\n",
       "      <th>5</th>\n",
       "      <td>Hamburg</td>\n",
       "      <td>85549.499070</td>\n",
       "    </tr>\n",
       "    <tr>\n",
       "      <th>6</th>\n",
       "      <td>Hessen</td>\n",
       "      <td>85864.929479</td>\n",
       "    </tr>\n",
       "    <tr>\n",
       "      <th>7</th>\n",
       "      <td>Niedersachsen</td>\n",
       "      <td>87963.312500</td>\n",
       "    </tr>\n",
       "    <tr>\n",
       "      <th>8</th>\n",
       "      <td>Nordrhein-Westfalen</td>\n",
       "      <td>88451.758103</td>\n",
       "    </tr>\n",
       "    <tr>\n",
       "      <th>9</th>\n",
       "      <td>Sachsen</td>\n",
       "      <td>89455.080674</td>\n",
       "    </tr>\n",
       "    <tr>\n",
       "      <th>10</th>\n",
       "      <td>Thüringen</td>\n",
       "      <td>90816.994082</td>\n",
       "    </tr>\n",
       "  </tbody>\n",
       "</table>\n",
       "</div>"
      ],
      "text/plain": [
       "                     id          Preis\n",
       "0     Baden-Württemberg   90969.560000\n",
       "1                Bayern   89344.313245\n",
       "2                Berlin   89584.984048\n",
       "3           Brandenburg   86673.640811\n",
       "4            Düsseldorf  120215.500000\n",
       "5               Hamburg   85549.499070\n",
       "6                Hessen   85864.929479\n",
       "7         Niedersachsen   87963.312500\n",
       "8   Nordrhein-Westfalen   88451.758103\n",
       "9               Sachsen   89455.080674\n",
       "10            Thüringen   90816.994082"
      ]
     },
     "execution_count": 679,
     "metadata": {},
     "output_type": "execute_result"
    }
   ],
   "source": [
    "data_niederlassung = {\n",
    "    'id': ['Baden-Württemberg', 'Bayern', 'Berlin', 'Brandenburg', 'Düsseldorf', 'Hamburg', 'Hessen', 'Niedersachsen', 'Nordrhein-Westfalen', 'Sachsen', 'Thüringen'],\n",
    "    'Preis': [90969.560000, 89344.313245, 89584.984048, 86673.640811, 120215.500000, 85549.499070, 85864.929479, 87963.312500, 88451.758103, 89455.080674, 90816.994082]\n",
    "}\n",
    "germany_info = pd.DataFrame(data_niederlassung)\n",
    "germany_info"
   ]
  },
  {
   "cell_type": "code",
   "execution_count": 680,
   "id": "acd1e9d7",
   "metadata": {
    "slideshow": {
     "slide_type": "skip"
    }
   },
   "outputs": [
    {
     "data": {
      "text/html": [
       "<div>\n",
       "<style scoped>\n",
       "    .dataframe tbody tr th:only-of-type {\n",
       "        vertical-align: middle;\n",
       "    }\n",
       "\n",
       "    .dataframe tbody tr th {\n",
       "        vertical-align: top;\n",
       "    }\n",
       "\n",
       "    .dataframe thead th {\n",
       "        text-align: right;\n",
       "    }\n",
       "</style>\n",
       "<table border=\"1\" class=\"dataframe\">\n",
       "  <thead>\n",
       "    <tr style=\"text-align: right;\">\n",
       "      <th></th>\n",
       "      <th>id</th>\n",
       "      <th>geometry</th>\n",
       "      <th>Preis</th>\n",
       "    </tr>\n",
       "  </thead>\n",
       "  <tbody>\n",
       "    <tr>\n",
       "      <th>0</th>\n",
       "      <td>Baden-Württemberg</td>\n",
       "      <td>MULTIPOLYGON (((9.65046 49.77634, 9.65684 49.7...</td>\n",
       "      <td>90969.560000</td>\n",
       "    </tr>\n",
       "    <tr>\n",
       "      <th>1</th>\n",
       "      <td>Bayern</td>\n",
       "      <td>POLYGON ((10.13386 50.55000, 10.13980 50.54252...</td>\n",
       "      <td>89344.313245</td>\n",
       "    </tr>\n",
       "    <tr>\n",
       "      <th>2</th>\n",
       "      <td>Berlin</td>\n",
       "      <td>POLYGON ((13.16181 52.59442, 13.21621 52.58252...</td>\n",
       "      <td>89584.984048</td>\n",
       "    </tr>\n",
       "    <tr>\n",
       "      <th>3</th>\n",
       "      <td>Brandenburg</td>\n",
       "      <td>POLYGON ((13.87951 53.50107, 13.87310 53.49915...</td>\n",
       "      <td>86673.640811</td>\n",
       "    </tr>\n",
       "    <tr>\n",
       "      <th>4</th>\n",
       "      <td>Hamburg</td>\n",
       "      <td>POLYGON ((10.07162 53.71823, 10.08402 53.72935...</td>\n",
       "      <td>85549.499070</td>\n",
       "    </tr>\n",
       "    <tr>\n",
       "      <th>5</th>\n",
       "      <td>Hessen</td>\n",
       "      <td>POLYGON ((9.49877 51.63152, 9.52809 51.62835, ...</td>\n",
       "      <td>85864.929479</td>\n",
       "    </tr>\n",
       "    <tr>\n",
       "      <th>6</th>\n",
       "      <td>Niedersachsen</td>\n",
       "      <td>MULTIPOLYGON (((8.68083 53.89208, 8.68917 53.8...</td>\n",
       "      <td>87963.312500</td>\n",
       "    </tr>\n",
       "    <tr>\n",
       "      <th>7</th>\n",
       "      <td>Nordrhein-Westfalen</td>\n",
       "      <td>POLYGON ((8.66628 52.52528, 8.67277 52.51795, ...</td>\n",
       "      <td>88451.758103</td>\n",
       "    </tr>\n",
       "    <tr>\n",
       "      <th>8</th>\n",
       "      <td>Sachsen</td>\n",
       "      <td>POLYGON ((12.87800 51.67270, 12.87158 51.66171...</td>\n",
       "      <td>89455.080674</td>\n",
       "    </tr>\n",
       "    <tr>\n",
       "      <th>9</th>\n",
       "      <td>Thüringen</td>\n",
       "      <td>POLYGON ((10.77189 51.64491, 10.81994 51.64079...</td>\n",
       "      <td>90816.994082</td>\n",
       "    </tr>\n",
       "  </tbody>\n",
       "</table>\n",
       "</div>"
      ],
      "text/plain": [
       "                    id                                           geometry  \\\n",
       "0    Baden-Württemberg  MULTIPOLYGON (((9.65046 49.77634, 9.65684 49.7...   \n",
       "1               Bayern  POLYGON ((10.13386 50.55000, 10.13980 50.54252...   \n",
       "2               Berlin  POLYGON ((13.16181 52.59442, 13.21621 52.58252...   \n",
       "3          Brandenburg  POLYGON ((13.87951 53.50107, 13.87310 53.49915...   \n",
       "4              Hamburg  POLYGON ((10.07162 53.71823, 10.08402 53.72935...   \n",
       "5               Hessen  POLYGON ((9.49877 51.63152, 9.52809 51.62835, ...   \n",
       "6        Niedersachsen  MULTIPOLYGON (((8.68083 53.89208, 8.68917 53.8...   \n",
       "7  Nordrhein-Westfalen  POLYGON ((8.66628 52.52528, 8.67277 52.51795, ...   \n",
       "8              Sachsen  POLYGON ((12.87800 51.67270, 12.87158 51.66171...   \n",
       "9            Thüringen  POLYGON ((10.77189 51.64491, 10.81994 51.64079...   \n",
       "\n",
       "          Preis  \n",
       "0  90969.560000  \n",
       "1  89344.313245  \n",
       "2  89584.984048  \n",
       "3  86673.640811  \n",
       "4  85549.499070  \n",
       "5  85864.929479  \n",
       "6  87963.312500  \n",
       "7  88451.758103  \n",
       "8  89455.080674  \n",
       "9  90816.994082  "
      ]
     },
     "execution_count": 680,
     "metadata": {},
     "output_type": "execute_result"
    }
   ],
   "source": [
    "germany_map_merged1 = pd.merge(germany_map, germany_info)\n",
    "germany_map_merged1"
   ]
  },
  {
   "cell_type": "code",
   "execution_count": 681,
   "id": "9d162c94",
   "metadata": {
    "slideshow": {
     "slide_type": "subslide"
    }
   },
   "outputs": [
    {
     "data": {
      "image/png": "[encoded data removed]",
      "text/plain": [
       "<Figure size 1000x600 with 2 Axes>"
      ]
     },
     "metadata": {},
     "output_type": "display_data"
    }
   ],
   "source": [
    "fig, ax = plt.subplots(1, figsize = (10, 6))\n",
    "germany_map_merged1.plot(column = \"Preis\", ax = ax,\n",
    "                        cmap = \"Blues\", legend = True)\n",
    "\n",
    "ax.axis(\"off\")\n",
    "ax.set_title(\"Durchschnittlicher Umsatz pro verkaufter Einheit nach Bundesland in EUR\")\n",
    "plt.show();"
   ]
  },
  {
   "cell_type": "code",
   "execution_count": 682,
   "id": "6d2e6ce5",
   "metadata": {
    "slideshow": {
     "slide_type": "skip"
    }
   },
   "outputs": [],
   "source": [
    "# 3 key findinds: in thüringen verkaufen wir wenig aber für viel (mehr in thüringen investieren)\n",
    " # baden würtemberg läuft sehr gut(verkaufen viel für viel)\n",
    "    # kein geschäft in Sachsen-Anhalt"
   ]
  },
  {
   "cell_type": "markdown",
   "id": "c040383e",
   "metadata": {
    "slideshow": {
     "slide_type": "slide"
    }
   },
   "source": [
    "# 6. Haben mehr Frauen oder mehr Maenner unsere Autos gekauft?"
   ]
  },
  {
   "cell_type": "code",
   "execution_count": 683,
   "id": "fb8df349",
   "metadata": {
    "slideshow": {
     "slide_type": "skip"
    }
   },
   "outputs": [
    {
     "name": "stdout",
     "output_type": "stream",
     "text": [
      "Die Anzahl der Maenner war hoeher: 706 , die Anzahl der Frauen dagegen war 398\n"
     ]
    }
   ],
   "source": [
    "anzahl_frauen = df[df['Geschlecht'] == 0]['Preis'].count()\n",
    "anzahl_maenner = df[df['Geschlecht'] == 1]['Preis'].count()\n",
    "\n",
    "if anzahl_frauen > anzahl_maenner: \n",
    "    print(\"Die Anzahl der Frauen war hoeher:\", anzahl_frauen, \", die Anzahl der Maenner dagegen war\", anzahl_maenner)\n",
    "else: \n",
    "    print(\"Die Anzahl der Maenner war hoeher:\", anzahl_maenner, \", die Anzahl der Frauen dagegen war\", anzahl_frauen)"
   ]
  },
  {
   "cell_type": "code",
   "execution_count": 711,
   "id": "c2e518a2",
   "metadata": {
    "slideshow": {
     "slide_type": "subslide"
    }
   },
   "outputs": [
    {
     "data": {
      "text/plain": [
       "<matplotlib.legend.Legend at 0x1fa6e8b1050>"
      ]
     },
     "execution_count": 711,
     "metadata": {},
     "output_type": "execute_result"
    },
    {
     "data": {
      "image/png": "[encoded data removed]",
      "text/plain": [
       "<Figure size 1000x700 with 1 Axes>"
      ]
     },
     "metadata": {},
     "output_type": "display_data"
    }
   ],
   "source": [
    "Gekaufte_Autos = ['Maenner', 'Frauen']\n",
    "data = [706.5, 398]\n",
    "def func(pct, allvalues):\n",
    "    absolute = int(pct / 100.*np.sum(allvalues))\n",
    "    return \"{:.1f}%\\n({:d} )\".format(pct, absolute)\n",
    "fig, ax = plt.subplots(figsize =(10, 7))\n",
    "wedges, texts, autotexts = ax.pie(data, \n",
    "                                  autopct = lambda pct: func(pct, data),labels = Gekaufte_Autos,shadow=True,startangle=90,textprops=dict(color =\"black\"))\n",
    "ax.legend(\n",
    "          title =\"Gekaufte_Autos\", loc =\"center left\", bbox_to_anchor =(1, 0, 0.5, 1))"
   ]
  },
  {
   "cell_type": "markdown",
   "id": "6e50227f",
   "metadata": {
    "slideshow": {
     "slide_type": "slide"
    }
   },
   "source": [
    "# 7. Wie hoch ist das Durchschnittsalter unserer Kunden?"
   ]
  },
  {
   "cell_type": "code",
   "execution_count": 685,
   "id": "42b309ad",
   "metadata": {
    "slideshow": {
     "slide_type": "fragment"
    }
   },
   "outputs": [
    {
     "name": "stdout",
     "output_type": "stream",
     "text": [
      "Das Durchschnittsalter unserer Kunden betrug 49.88103254769921\n"
     ]
    }
   ],
   "source": [
    "durchschnittsalter = df[df['Preis'].isna()]['Alter'].mean()\n",
    "print(\"Das Durchschnittsalter unserer Kunden betrug\", durchschnittsalter)"
   ]
  },
  {
   "cell_type": "markdown",
   "id": "fa106486",
   "metadata": {
    "slideshow": {
     "slide_type": "slide"
    }
   },
   "source": [
    "# 8. Wie hoch ist das Durchschnittsalter der Besucher in unseren Showrooms?"
   ]
  },
  {
   "cell_type": "code",
   "execution_count": 686,
   "id": "b6077d89",
   "metadata": {},
   "outputs": [
    {
     "name": "stdout",
     "output_type": "stream",
     "text": [
      "Das Durchschnittsalter der Besucher unseres Showrooms beträgt 49.88103254769921\n"
     ]
    }
   ],
   "source": [
    "durchschnittsalter = df[df['Preis'].isna()]['Alter'].mean()\n",
    "print(\"Das Durchschnittsalter der Besucher unseres Showrooms beträgt\", durchschnittsalter)"
   ]
  },
  {
   "cell_type": "markdown",
   "id": "f632e368",
   "metadata": {
    "slideshow": {
     "slide_type": "slide"
    }
   },
   "source": [
    "# 9. Was ist das Durchschnittsalter unserer männlichen Kunden?"
   ]
  },
  {
   "cell_type": "code",
   "execution_count": 687,
   "id": "cc0561cf",
   "metadata": {
    "slideshow": {
     "slide_type": "fragment"
    }
   },
   "outputs": [
    {
     "name": "stdout",
     "output_type": "stream",
     "text": [
      "Das Durchschnittsalter unserer männlichen Kunden beträgt 50.45892351274787\n"
     ]
    }
   ],
   "source": [
    "maennliche_kunden_mit_preis = df[(df['Geschlecht'] == 1) & (~df['Preis'].isna())]\n",
    "durchschnittsalter_maennliche_kunden = maennliche_kunden_mit_preis['Alter'].mean()\n",
    "print(\"Das Durchschnittsalter unserer männlichen Kunden beträgt\", durchschnittsalter_maennliche_kunden)"
   ]
  },
  {
   "cell_type": "markdown",
   "id": "b6161561",
   "metadata": {
    "slideshow": {
     "slide_type": "slide"
    }
   },
   "source": [
    "# 10. Wie hoch ist das Durchschnittseinkommen unserer Kunden?"
   ]
  },
  {
   "cell_type": "code",
   "execution_count": 688,
   "id": "eb48df9b",
   "metadata": {
    "slideshow": {
     "slide_type": "skip"
    }
   },
   "outputs": [],
   "source": [
    "anzahl_maenner = df[df['Geschlecht'] == 1]"
   ]
  },
  {
   "cell_type": "code",
   "execution_count": 689,
   "id": "916ebab2",
   "metadata": {
    "slideshow": {
     "slide_type": "fragment"
    }
   },
   "outputs": [
    {
     "name": "stdout",
     "output_type": "stream",
     "text": [
      "Das Durchschnittseinkommen unserer Kunden beträgt 58844.53786407767\n"
     ]
    }
   ],
   "source": [
    "kunden_mit_preis = ~df['Preis'].isna()\n",
    "durchschnittseinkommen = anzahl_maenner[anzahl_maenner[\"Preis\"].isna()]['Einkommen'].mean()\n",
    "print(\"Das Durchschnittseinkommen unserer Kunden beträgt\", durchschnittseinkommen)"
   ]
  },
  {
   "cell_type": "markdown",
   "id": "5606bdb9",
   "metadata": {
    "slideshow": {
     "slide_type": "slide"
    }
   },
   "source": [
    "# 11. Wie hoch ist die Korrelation (Pearson-Korrelation) zwischen den Variablen Alter, Einkommen, Preis und Zeit? (nur für die Kunden)"
   ]
  },
  {
   "cell_type": "code",
   "execution_count": 690,
   "id": "a86baf2e",
   "metadata": {
    "slideshow": {
     "slide_type": "skip"
    }
   },
   "outputs": [],
   "source": [
    "selected_columns = [\"Alter\", \"Einkommen\", \"Preis\", \"Zeit\"]\n",
    "\n",
    "new_df = df[selected_columns]"
   ]
  },
  {
   "cell_type": "code",
   "execution_count": 691,
   "id": "24aaaaa1",
   "metadata": {
    "slideshow": {
     "slide_type": "fragment"
    }
   },
   "outputs": [
    {
     "data": {
      "image/png": "[encoded data removed]",
      "text/plain": [
       "<Figure size 500x500 with 2 Axes>"
      ]
     },
     "metadata": {},
     "output_type": "display_data"
    }
   ],
   "source": [
    "plt.figure(figsize = (5, 5))\n",
    "\n",
    "sns.heatmap(\n",
    "    new_df.select_dtypes(np.number).corr(),\n",
    "    cmap = 'coolwarm',\n",
    "    annot = True,\n",
    "    annot_kws = {\"size\": 8}\n",
    ");\n",
    "plt.show()"
   ]
  },
  {
   "cell_type": "markdown",
   "id": "95e3f4b5",
   "metadata": {
    "slideshow": {
     "slide_type": "slide"
    }
   },
   "source": [
    "# 12. Wie ist die Variable Zeit verteilt? (Kunden und Besucher zusammen)"
   ]
  },
  {
   "cell_type": "code",
   "execution_count": 692,
   "id": "dfa69825",
   "metadata": {
    "slideshow": {
     "slide_type": "fragment"
    }
   },
   "outputs": [
    {
     "name": "stderr",
     "output_type": "stream",
     "text": [
      "C:\\Users\\s_goerer20\\AppData\\Local\\Temp\\ipykernel_7656\\1193611392.py:1: UserWarning: \n",
      "\n",
      "`distplot` is a deprecated function and will be removed in seaborn v0.14.0.\n",
      "\n",
      "Please adapt your code to use either `displot` (a figure-level function with\n",
      "similar flexibility) or `histplot` (an axes-level function for histograms).\n",
      "\n",
      "For a guide to updating your code to use the new functions, please see\n",
      "https://gist.github.com/mwaskom/de44147ed2974457ad6372750bbe5751\n",
      "\n",
      "  sns.distplot(df[\"Zeit\"])\n"
     ]
    },
    {
     "data": {
      "text/plain": [
       "<Axes: xlabel='Zeit', ylabel='Density'>"
      ]
     },
     "execution_count": 692,
     "metadata": {},
     "output_type": "execute_result"
    },
    {
     "data": {
      "image/png": "[encoded data removed]",
      "text/plain": [
       "<Figure size 640x480 with 1 Axes>"
      ]
     },
     "metadata": {},
     "output_type": "display_data"
    }
   ],
   "source": [
    "sns.distplot(df[\"Zeit\"])"
   ]
  },
  {
   "cell_type": "markdown",
   "id": "461319b7",
   "metadata": {
    "slideshow": {
     "slide_type": "slide"
    }
   },
   "source": [
    "# 13. Wie viele Kunden haben keinen Kredit bei der Bank genommen, um das Auto zu kaufen? Die Kundenabteilung hat vergessen, diese Informationen zu sammeln. Wir können davon ausgehen, dass die Kunden mit einem Jahreseinkommen, das höher als der Autopreis ist, keinen Bankkredit benötigten"
   ]
  },
  {
   "cell_type": "code",
   "execution_count": 693,
   "id": "4a479895",
   "metadata": {
    "slideshow": {
     "slide_type": "fragment"
    }
   },
   "outputs": [
    {
     "name": "stdout",
     "output_type": "stream",
     "text": [
      "Es haben insgesamt 1099 Kunden einen Kredit aufgenommen\n"
     ]
    }
   ],
   "source": [
    "Anzahl_Kreditnehmer = (df['Preis'] > df['Einkommen']).sum()\n",
    "print(\"Es haben insgesamt\" ,Anzahl_Kreditnehmer, \"Kunden einen Kredit aufgenommen\")"
   ]
  },
  {
   "cell_type": "markdown",
   "id": "5c174ee3",
   "metadata": {
    "slideshow": {
     "slide_type": "slide"
    }
   },
   "source": [
    "# 14. Welches sind die sozioökonomischen Merkmale der Kunden, die den Kaufpreis beeinflussen? Wählen Sie die geeigneten abhängigen Variablen aus und schätzen Sie eine Regression unter Verwendung der geeigneten Methode"
   ]
  },
  {
   "cell_type": "code",
   "execution_count": 694,
   "id": "14d35e24",
   "metadata": {
    "slideshow": {
     "slide_type": "skip"
    }
   },
   "outputs": [
    {
     "data": {
      "text/html": [
       "<table style=\"text-align:center\"><tr><td colspan=\"2\" style=\"border-bottom: 1px solid black\"></td></tr>\n",
       "<tr><td style=\"text-align:left\"></td><td colspan=\"1\"><em>Dependent variable: Preis</em></td></tr><tr><td style=\"text-align:left\"></td><tr><td style=\"text-align:left\"></td><td>(1)</td></tr>\n",
       "<tr><td colspan=\"2\" style=\"border-bottom: 1px solid black\"></td></tr>\n",
       "\n",
       "<tr><td style=\"text-align:left\">Alter</td><td>478.688<sup>***</sup></td></tr>\n",
       "<tr><td style=\"text-align:left\"></td><td>(39.476)</td></tr>\n",
       "<tr><td style=\"text-align:left\">Einkommen</td><td>1.063<sup>***</sup></td></tr>\n",
       "<tr><td style=\"text-align:left\"></td><td>(0.029)</td></tr>\n",
       "<tr><td style=\"text-align:left\">Geschlecht</td><td>2140.939<sup>***</sup></td></tr>\n",
       "<tr><td style=\"text-align:left\"></td><td>(636.899)</td></tr>\n",
       "<tr><td style=\"text-align:left\">Intercept</td><td>909.536<sup></sup></td></tr>\n",
       "<tr><td style=\"text-align:left\"></td><td>(1390.088)</td></tr>\n",
       "\n",
       "<td colspan=\"2\" style=\"border-bottom: 1px solid black\"></td></tr>\n",
       "<tr><td style=\"text-align: left\">Observations</td><td>1104</td></tr><tr><td style=\"text-align: left\">R<sup>2</sup></td><td>0.828</td></tr><tr><td style=\"text-align: left\">Adjusted R<sup>2</sup></td><td>0.828</td></tr><tr><td style=\"text-align: left\">Residual Std. Error</td><td>10151.954 (df=1100)</td></tr><tr><td style=\"text-align: left\">F Statistic</td><td>1768.404<sup>***</sup> (df=3; 1100)</td></tr>\n",
       "<tr><td colspan=\"2\" style=\"border-bottom: 1px solid black\"></td></tr><tr><td style=\"text-align: left\">Note:</td><td colspan=\"1\" style=\"text-align: right\"><sup>*</sup>p&lt;0.1; <sup>**</sup>p&lt;0.05; <sup>***</sup>p&lt;0.01</td></tr></table>"
      ],
      "text/plain": [
       "<stargazer.stargazer.Stargazer at 0x1fa6fa31a90>"
      ]
     },
     "execution_count": 694,
     "metadata": {},
     "output_type": "execute_result"
    }
   ],
   "source": [
    "model = smf.ols(\"Preis ~ Alter + Geschlecht + Einkommen\", data=df).fit()\n",
    "Stargazer([model])"
   ]
  },
  {
   "cell_type": "code",
   "execution_count": 695,
   "id": "5480d2c5",
   "metadata": {
    "slideshow": {
     "slide_type": "fragment"
    }
   },
   "outputs": [
    {
     "data": {
      "text/html": [
       "<table class=\"simpletable\">\n",
       "<caption>OLS Regression Results</caption>\n",
       "<tr>\n",
       "  <th>Dep. Variable:</th>          <td>Preis</td>      <th>  R-squared:         </th> <td>   0.828</td> \n",
       "</tr>\n",
       "<tr>\n",
       "  <th>Model:</th>                   <td>OLS</td>       <th>  Adj. R-squared:    </th> <td>   0.828</td> \n",
       "</tr>\n",
       "<tr>\n",
       "  <th>Method:</th>             <td>Least Squares</td>  <th>  F-statistic:       </th> <td>   1768.</td> \n",
       "</tr>\n",
       "<tr>\n",
       "  <th>Date:</th>             <td>Thu, 04 Jan 2024</td> <th>  Prob (F-statistic):</th>  <td>  0.00</td>  \n",
       "</tr>\n",
       "<tr>\n",
       "  <th>Time:</th>                 <td>19:21:58</td>     <th>  Log-Likelihood:    </th> <td> -11749.</td> \n",
       "</tr>\n",
       "<tr>\n",
       "  <th>No. Observations:</th>      <td>  1104</td>      <th>  AIC:               </th> <td>2.351e+04</td>\n",
       "</tr>\n",
       "<tr>\n",
       "  <th>Df Residuals:</th>          <td>  1100</td>      <th>  BIC:               </th> <td>2.353e+04</td>\n",
       "</tr>\n",
       "<tr>\n",
       "  <th>Df Model:</th>              <td>     3</td>      <th>                     </th>     <td> </td>    \n",
       "</tr>\n",
       "<tr>\n",
       "  <th>Covariance Type:</th>      <td>nonrobust</td>    <th>                     </th>     <td> </td>    \n",
       "</tr>\n",
       "</table>\n",
       "<table class=\"simpletable\">\n",
       "<tr>\n",
       "       <td></td>         <th>coef</th>     <th>std err</th>      <th>t</th>      <th>P>|t|</th>  <th>[0.025</th>    <th>0.975]</th>  \n",
       "</tr>\n",
       "<tr>\n",
       "  <th>Intercept</th>  <td>  909.5363</td> <td> 1390.088</td> <td>    0.654</td> <td> 0.513</td> <td>-1817.988</td> <td> 3637.061</td>\n",
       "</tr>\n",
       "<tr>\n",
       "  <th>Alter</th>      <td>  478.6882</td> <td>   39.476</td> <td>   12.126</td> <td> 0.000</td> <td>  401.232</td> <td>  556.145</td>\n",
       "</tr>\n",
       "<tr>\n",
       "  <th>Geschlecht</th> <td> 2140.9389</td> <td>  636.899</td> <td>    3.362</td> <td> 0.001</td> <td>  891.264</td> <td> 3390.614</td>\n",
       "</tr>\n",
       "<tr>\n",
       "  <th>Einkommen</th>  <td>    1.0626</td> <td>    0.029</td> <td>   37.163</td> <td> 0.000</td> <td>    1.006</td> <td>    1.119</td>\n",
       "</tr>\n",
       "</table>\n",
       "<table class=\"simpletable\">\n",
       "<tr>\n",
       "  <th>Omnibus:</th>       <td> 1.281</td> <th>  Durbin-Watson:     </th> <td>   2.111</td>\n",
       "</tr>\n",
       "<tr>\n",
       "  <th>Prob(Omnibus):</th> <td> 0.527</td> <th>  Jarque-Bera (JB):  </th> <td>   1.279</td>\n",
       "</tr>\n",
       "<tr>\n",
       "  <th>Skew:</th>          <td> 0.016</td> <th>  Prob(JB):          </th> <td>   0.527</td>\n",
       "</tr>\n",
       "<tr>\n",
       "  <th>Kurtosis:</th>      <td> 2.836</td> <th>  Cond. No.          </th> <td>2.81e+05</td>\n",
       "</tr>\n",
       "</table><br/><br/>Notes:<br/>[1] Standard Errors assume that the covariance matrix of the errors is correctly specified.<br/>[2] The condition number is large, 2.81e+05. This might indicate that there are<br/>strong multicollinearity or other numerical problems."
      ],
      "text/latex": [
       "\\begin{center}\n",
       "\\begin{tabular}{lclc}\n",
       "\\toprule\n",
       "\\textbf{Dep. Variable:}    &      Preis       & \\textbf{  R-squared:         } &     0.828   \\\\\n",
       "\\textbf{Model:}            &       OLS        & \\textbf{  Adj. R-squared:    } &     0.828   \\\\\n",
       "\\textbf{Method:}           &  Least Squares   & \\textbf{  F-statistic:       } &     1768.   \\\\\n",
       "\\textbf{Date:}             & Thu, 04 Jan 2024 & \\textbf{  Prob (F-statistic):} &     0.00    \\\\\n",
       "\\textbf{Time:}             &     19:21:58     & \\textbf{  Log-Likelihood:    } &   -11749.   \\\\\n",
       "\\textbf{No. Observations:} &        1104      & \\textbf{  AIC:               } & 2.351e+04   \\\\\n",
       "\\textbf{Df Residuals:}     &        1100      & \\textbf{  BIC:               } & 2.353e+04   \\\\\n",
       "\\textbf{Df Model:}         &           3      & \\textbf{                     } &             \\\\\n",
       "\\textbf{Covariance Type:}  &    nonrobust     & \\textbf{                     } &             \\\\\n",
       "\\bottomrule\n",
       "\\end{tabular}\n",
       "\\begin{tabular}{lcccccc}\n",
       "                    & \\textbf{coef} & \\textbf{std err} & \\textbf{t} & \\textbf{P$> |$t$|$} & \\textbf{[0.025} & \\textbf{0.975]}  \\\\\n",
       "\\midrule\n",
       "\\textbf{Intercept}  &     909.5363  &     1390.088     &     0.654  &         0.513        &    -1817.988    &     3637.061     \\\\\n",
       "\\textbf{Alter}      &     478.6882  &       39.476     &    12.126  &         0.000        &      401.232    &      556.145     \\\\\n",
       "\\textbf{Geschlecht} &    2140.9389  &      636.899     &     3.362  &         0.001        &      891.264    &     3390.614     \\\\\n",
       "\\textbf{Einkommen}  &       1.0626  &        0.029     &    37.163  &         0.000        &        1.006    &        1.119     \\\\\n",
       "\\bottomrule\n",
       "\\end{tabular}\n",
       "\\begin{tabular}{lclc}\n",
       "\\textbf{Omnibus:}       &  1.281 & \\textbf{  Durbin-Watson:     } &    2.111  \\\\\n",
       "\\textbf{Prob(Omnibus):} &  0.527 & \\textbf{  Jarque-Bera (JB):  } &    1.279  \\\\\n",
       "\\textbf{Skew:}          &  0.016 & \\textbf{  Prob(JB):          } &    0.527  \\\\\n",
       "\\textbf{Kurtosis:}      &  2.836 & \\textbf{  Cond. No.          } & 2.81e+05  \\\\\n",
       "\\bottomrule\n",
       "\\end{tabular}\n",
       "%\\caption{OLS Regression Results}\n",
       "\\end{center}\n",
       "\n",
       "Notes: \\newline\n",
       " [1] Standard Errors assume that the covariance matrix of the errors is correctly specified. \\newline\n",
       " [2] The condition number is large, 2.81e+05. This might indicate that there are \\newline\n",
       " strong multicollinearity or other numerical problems."
      ],
      "text/plain": [
       "<class 'statsmodels.iolib.summary.Summary'>\n",
       "\"\"\"\n",
       "                            OLS Regression Results                            \n",
       "==============================================================================\n",
       "Dep. Variable:                  Preis   R-squared:                       0.828\n",
       "Model:                            OLS   Adj. R-squared:                  0.828\n",
       "Method:                 Least Squares   F-statistic:                     1768.\n",
       "Date:                Thu, 04 Jan 2024   Prob (F-statistic):               0.00\n",
       "Time:                        19:21:58   Log-Likelihood:                -11749.\n",
       "No. Observations:                1104   AIC:                         2.351e+04\n",
       "Df Residuals:                    1100   BIC:                         2.353e+04\n",
       "Df Model:                           3                                         \n",
       "Covariance Type:            nonrobust                                         \n",
       "==============================================================================\n",
       "                 coef    std err          t      P>|t|      [0.025      0.975]\n",
       "------------------------------------------------------------------------------\n",
       "Intercept    909.5363   1390.088      0.654      0.513   -1817.988    3637.061\n",
       "Alter        478.6882     39.476     12.126      0.000     401.232     556.145\n",
       "Geschlecht  2140.9389    636.899      3.362      0.001     891.264    3390.614\n",
       "Einkommen      1.0626      0.029     37.163      0.000       1.006       1.119\n",
       "==============================================================================\n",
       "Omnibus:                        1.281   Durbin-Watson:                   2.111\n",
       "Prob(Omnibus):                  0.527   Jarque-Bera (JB):                1.279\n",
       "Skew:                           0.016   Prob(JB):                        0.527\n",
       "Kurtosis:                       2.836   Cond. No.                     2.81e+05\n",
       "==============================================================================\n",
       "\n",
       "Notes:\n",
       "[1] Standard Errors assume that the covariance matrix of the errors is correctly specified.\n",
       "[2] The condition number is large, 2.81e+05. This might indicate that there are\n",
       "strong multicollinearity or other numerical problems.\n",
       "\"\"\""
      ]
     },
     "execution_count": 695,
     "metadata": {},
     "output_type": "execute_result"
    }
   ],
   "source": [
    "model = sm.OLS.from_formula(\"Preis ~ Alter + Geschlecht + Einkommen\", data=df).fit()\n",
    "model.summary()"
   ]
  },
  {
   "cell_type": "markdown",
   "id": "9ce95f91",
   "metadata": {
    "slideshow": {
     "slide_type": "slide"
    }
   },
   "source": [
    "# 15. Prognostizieren Sie den Kaufpreis eines unserer Autos für einen männlichen Kunden im Alter von 32 Jahren mit einem Einkommen von 30.000 Euro. Prognostizieren Sie den Kaufpreis eines unserer Autos für einen männlichen Kunden im Alter von 51 Jahren und mit einem Einkommen von 54.000 Euro"
   ]
  },
  {
   "cell_type": "code",
   "execution_count": 696,
   "id": "e3b693fe",
   "metadata": {
    "slideshow": {
     "slide_type": "skip"
    }
   },
   "outputs": [],
   "source": [
    "from statsmodels.api import add_constant"
   ]
  },
  {
   "cell_type": "code",
   "execution_count": 697,
   "id": "2836d4f3",
   "metadata": {
    "slideshow": {
     "slide_type": "skip"
    }
   },
   "outputs": [
    {
     "data": {
      "text/html": [
       "<div>\n",
       "<style scoped>\n",
       "    .dataframe tbody tr th:only-of-type {\n",
       "        vertical-align: middle;\n",
       "    }\n",
       "\n",
       "    .dataframe tbody tr th {\n",
       "        vertical-align: top;\n",
       "    }\n",
       "\n",
       "    .dataframe thead th {\n",
       "        text-align: right;\n",
       "    }\n",
       "</style>\n",
       "<table border=\"1\" class=\"dataframe\">\n",
       "  <thead>\n",
       "    <tr style=\"text-align: right;\">\n",
       "      <th></th>\n",
       "      <th>const</th>\n",
       "      <th>Alter</th>\n",
       "      <th>Geschlecht</th>\n",
       "      <th>Einkommen</th>\n",
       "    </tr>\n",
       "  </thead>\n",
       "  <tbody>\n",
       "    <tr>\n",
       "      <th>0</th>\n",
       "      <td>1.0</td>\n",
       "      <td>32</td>\n",
       "      <td>1</td>\n",
       "      <td>30000</td>\n",
       "    </tr>\n",
       "    <tr>\n",
       "      <th>1</th>\n",
       "      <td>1.0</td>\n",
       "      <td>51</td>\n",
       "      <td>1</td>\n",
       "      <td>54000</td>\n",
       "    </tr>\n",
       "  </tbody>\n",
       "</table>\n",
       "</div>"
      ],
      "text/plain": [
       "   const  Alter  Geschlecht  Einkommen\n",
       "0    1.0     32           1      30000\n",
       "1    1.0     51           1      54000"
      ]
     },
     "execution_count": 697,
     "metadata": {},
     "output_type": "execute_result"
    }
   ],
   "source": [
    "X_predict = pd.DataFrame({\n",
    "    'Alter': [32, 51],           \n",
    "    'Geschlecht': [1, 1],\n",
    "    'Einkommen': [30000, 54000] \n",
    "})\n",
    "\n",
    "X_predict = add_constant(X_predict, has_constant='add')\n",
    "X_predict"
   ]
  },
  {
   "cell_type": "code",
   "execution_count": 698,
   "id": "bed67339",
   "metadata": {
    "slideshow": {
     "slide_type": "fragment"
    }
   },
   "outputs": [
    {
     "data": {
      "text/plain": [
       "0    50245.383433\n",
       "1    84841.968072\n",
       "dtype: float64"
      ]
     },
     "execution_count": 698,
     "metadata": {},
     "output_type": "execute_result"
    }
   ],
   "source": [
    "predicted_preis = model.predict(X_predict)\n",
    "predicted_preis"
   ]
  },
  {
   "cell_type": "markdown",
   "id": "fc5b4258",
   "metadata": {
    "slideshow": {
     "slide_type": "slide"
    }
   },
   "source": [
    "# 16. In Bezug auf die vorherige Frage: Welche Variable beeinflusst den Preis des Autos am meisten? Mit anderen Worten: Die von Ihnen geschätzten Regressionskoeffizienten müssen direkt vergleichbar sein. Wie sollen die Daten transformiert werden? Tipp: Beta-Werte."
   ]
  },
  {
   "cell_type": "code",
   "execution_count": 699,
   "id": "bac44914",
   "metadata": {
    "slideshow": {
     "slide_type": "skip"
    }
   },
   "outputs": [],
   "source": [
    "scaler_X = StandardScaler()"
   ]
  },
  {
   "cell_type": "code",
   "execution_count": 700,
   "id": "21abd2f3",
   "metadata": {
    "slideshow": {
     "slide_type": "skip"
    }
   },
   "outputs": [],
   "source": [
    "df[['Alter', 'Geschlecht', 'Einkommen']] = scaler_X.fit_transform(df[['Alter', 'Geschlecht', 'Einkommen']])"
   ]
  },
  {
   "cell_type": "code",
   "execution_count": 701,
   "id": "38ab9457",
   "metadata": {
    "slideshow": {
     "slide_type": "skip"
    }
   },
   "outputs": [],
   "source": [
    "scaler_y = StandardScaler()"
   ]
  },
  {
   "cell_type": "code",
   "execution_count": 702,
   "id": "20d3fb27",
   "metadata": {
    "slideshow": {
     "slide_type": "skip"
    }
   },
   "outputs": [],
   "source": [
    "df['Preis'] = scaler_y.fit_transform(df[['Preis']])"
   ]
  },
  {
   "cell_type": "code",
   "execution_count": 703,
   "id": "1fe9d9ff",
   "metadata": {
    "slideshow": {
     "slide_type": "fragment"
    }
   },
   "outputs": [
    {
     "name": "stdout",
     "output_type": "stream",
     "text": [
      "                            OLS Regression Results                            \n",
      "==============================================================================\n",
      "Dep. Variable:                  Preis   R-squared:                       0.828\n",
      "Model:                            OLS   Adj. R-squared:                  0.828\n",
      "Method:                 Least Squares   F-statistic:                     1768.\n",
      "Date:                Thu, 04 Jan 2024   Prob (F-statistic):               0.00\n",
      "Time:                        19:21:58   Log-Likelihood:                -593.99\n",
      "No. Observations:                1104   AIC:                             1196.\n",
      "Df Residuals:                    1100   BIC:                             1216.\n",
      "Df Model:                           3                                         \n",
      "Covariance Type:            nonrobust                                         \n",
      "==============================================================================\n",
      "                 coef    std err          t      P>|t|      [0.025      0.975]\n",
      "------------------------------------------------------------------------------\n",
      "Intercept      0.0024      0.013      0.191      0.849      -0.022       0.027\n",
      "Alter          0.2331      0.019     12.126      0.000       0.195       0.271\n",
      "Geschlecht     0.0427      0.013      3.362      0.001       0.018       0.068\n",
      "Einkommen      0.7105      0.019     37.163      0.000       0.673       0.748\n",
      "==============================================================================\n",
      "Omnibus:                        1.281   Durbin-Watson:                   2.111\n",
      "Prob(Omnibus):                  0.527   Jarque-Bera (JB):                1.279\n",
      "Skew:                           0.016   Prob(JB):                        0.527\n",
      "Kurtosis:                       2.836   Cond. No.                         2.72\n",
      "==============================================================================\n",
      "\n",
      "Notes:\n",
      "[1] Standard Errors assume that the covariance matrix of the errors is correctly specified.\n"
     ]
    }
   ],
   "source": [
    "try:\n",
    "    model = sm.OLS.from_formula(\"Preis ~ Alter + Geschlecht + Einkommen\", data=df).fit()\n",
    "    print(model.summary())\n",
    "except Exception as e:\n",
    "    print(f\"Error: {str(e)}\")"
   ]
  },
  {
   "cell_type": "markdown",
   "id": "3c15c9b1",
   "metadata": {
    "slideshow": {
     "slide_type": "slide"
    }
   },
   "source": [
    "# 17. Schätzen Sie eine Regression, die die Wahrscheinlichkeit des Kaufs eines Autos ermittelt. Verwenden Sie die entsprechende Methode. Tipp: Logistische Regression."
   ]
  },
  {
   "cell_type": "code",
   "execution_count": 704,
   "id": "641ceec7",
   "metadata": {
    "slideshow": {
     "slide_type": "skip"
    }
   },
   "outputs": [],
   "source": [
    "df = pd.read_csv(\"data/df_final.csv\")\n",
    "df['gekauft_1'] = df['Preis'].notna().astype(int)"
   ]
  },
  {
   "cell_type": "code",
   "execution_count": 705,
   "id": "e348e9ea",
   "metadata": {
    "slideshow": {
     "slide_type": "skip"
    }
   },
   "outputs": [
    {
     "data": {
      "text/html": [
       "<div>\n",
       "<style scoped>\n",
       "    .dataframe tbody tr th:only-of-type {\n",
       "        vertical-align: middle;\n",
       "    }\n",
       "\n",
       "    .dataframe tbody tr th {\n",
       "        vertical-align: top;\n",
       "    }\n",
       "\n",
       "    .dataframe thead th {\n",
       "        text-align: right;\n",
       "    }\n",
       "</style>\n",
       "<table border=\"1\" class=\"dataframe\">\n",
       "  <thead>\n",
       "    <tr style=\"text-align: right;\">\n",
       "      <th></th>\n",
       "      <th>Unnamed: 0</th>\n",
       "      <th>Alter</th>\n",
       "      <th>Einkommen</th>\n",
       "      <th>Geschlecht</th>\n",
       "      <th>Zeit</th>\n",
       "      <th>KundeNr</th>\n",
       "      <th>Preis</th>\n",
       "      <th>Niederlassung</th>\n",
       "      <th>gekauft_1</th>\n",
       "    </tr>\n",
       "  </thead>\n",
       "  <tbody>\n",
       "    <tr>\n",
       "      <th>1990</th>\n",
       "      <td>1990</td>\n",
       "      <td>70</td>\n",
       "      <td>69581</td>\n",
       "      <td>1.0</td>\n",
       "      <td>51</td>\n",
       "      <td>K0467</td>\n",
       "      <td>103751.58</td>\n",
       "      <td>Thüringen</td>\n",
       "      <td>1</td>\n",
       "    </tr>\n",
       "    <tr>\n",
       "      <th>1991</th>\n",
       "      <td>1991</td>\n",
       "      <td>38</td>\n",
       "      <td>48301</td>\n",
       "      <td>1.0</td>\n",
       "      <td>33</td>\n",
       "      <td>K0122</td>\n",
       "      <td>64230.98</td>\n",
       "      <td>Niedersachsen</td>\n",
       "      <td>1</td>\n",
       "    </tr>\n",
       "    <tr>\n",
       "      <th>1992</th>\n",
       "      <td>1992</td>\n",
       "      <td>67</td>\n",
       "      <td>63547</td>\n",
       "      <td>1.0</td>\n",
       "      <td>41</td>\n",
       "      <td>K1045</td>\n",
       "      <td>103123.57</td>\n",
       "      <td>Berlin</td>\n",
       "      <td>1</td>\n",
       "    </tr>\n",
       "    <tr>\n",
       "      <th>1993</th>\n",
       "      <td>1993</td>\n",
       "      <td>37</td>\n",
       "      <td>32686</td>\n",
       "      <td>1.0</td>\n",
       "      <td>36</td>\n",
       "      <td>K1096</td>\n",
       "      <td>49215.87</td>\n",
       "      <td>Baden-Württemberg</td>\n",
       "      <td>1</td>\n",
       "    </tr>\n",
       "    <tr>\n",
       "      <th>1994</th>\n",
       "      <td>1994</td>\n",
       "      <td>55</td>\n",
       "      <td>71240</td>\n",
       "      <td>1.0</td>\n",
       "      <td>49</td>\n",
       "      <td>K0861</td>\n",
       "      <td>106132.59</td>\n",
       "      <td>Bayern</td>\n",
       "      <td>1</td>\n",
       "    </tr>\n",
       "  </tbody>\n",
       "</table>\n",
       "</div>"
      ],
      "text/plain": [
       "      Unnamed: 0  Alter  Einkommen  Geschlecht  Zeit KundeNr      Preis  \\\n",
       "1990        1990     70      69581         1.0    51   K0467  103751.58   \n",
       "1991        1991     38      48301         1.0    33   K0122   64230.98   \n",
       "1992        1992     67      63547         1.0    41   K1045  103123.57   \n",
       "1993        1993     37      32686         1.0    36   K1096   49215.87   \n",
       "1994        1994     55      71240         1.0    49   K0861  106132.59   \n",
       "\n",
       "          Niederlassung  gekauft_1  \n",
       "1990          Thüringen          1  \n",
       "1991      Niedersachsen          1  \n",
       "1992             Berlin          1  \n",
       "1993  Baden-Württemberg          1  \n",
       "1994             Bayern          1  "
      ]
     },
     "execution_count": 705,
     "metadata": {},
     "output_type": "execute_result"
    }
   ],
   "source": [
    "df.tail()"
   ]
  },
  {
   "cell_type": "code",
   "execution_count": 706,
   "id": "1077f33b",
   "metadata": {
    "slideshow": {
     "slide_type": "skip"
    }
   },
   "outputs": [
    {
     "name": "stdout",
     "output_type": "stream",
     "text": [
      "Optimization terminated successfully.\n",
      "         Current function value: 0.579041\n",
      "         Iterations 6\n"
     ]
    }
   ],
   "source": [
    "reg1_gekauft = smf.logit('gekauft_1 ~ Alter + Geschlecht + Einkommen + Zeit', data=df).fit()"
   ]
  },
  {
   "cell_type": "code",
   "execution_count": 707,
   "id": "2066e178",
   "metadata": {
    "slideshow": {
     "slide_type": "fragment"
    }
   },
   "outputs": [
    {
     "data": {
      "text/html": [
       "<table class=\"simpletable\">\n",
       "<caption>Logit Regression Results</caption>\n",
       "<tr>\n",
       "  <th>Dep. Variable:</th>       <td>gekauft_1</td>    <th>  No. Observations:  </th>  <td>  1995</td>  \n",
       "</tr>\n",
       "<tr>\n",
       "  <th>Model:</th>                 <td>Logit</td>      <th>  Df Residuals:      </th>  <td>  1990</td>  \n",
       "</tr>\n",
       "<tr>\n",
       "  <th>Method:</th>                 <td>MLE</td>       <th>  Df Model:          </th>  <td>     4</td>  \n",
       "</tr>\n",
       "<tr>\n",
       "  <th>Date:</th>            <td>Thu, 04 Jan 2024</td> <th>  Pseudo R-squ.:     </th>  <td>0.1577</td>  \n",
       "</tr>\n",
       "<tr>\n",
       "  <th>Time:</th>                <td>19:21:59</td>     <th>  Log-Likelihood:    </th> <td> -1155.2</td> \n",
       "</tr>\n",
       "<tr>\n",
       "  <th>converged:</th>             <td>True</td>       <th>  LL-Null:           </th> <td> -1371.4</td> \n",
       "</tr>\n",
       "<tr>\n",
       "  <th>Covariance Type:</th>     <td>nonrobust</td>    <th>  LLR p-value:       </th> <td>2.638e-92</td>\n",
       "</tr>\n",
       "</table>\n",
       "<table class=\"simpletable\">\n",
       "<tr>\n",
       "       <td></td>         <th>coef</th>     <th>std err</th>      <th>z</th>      <th>P>|z|</th>  <th>[0.025</th>    <th>0.975]</th>  \n",
       "</tr>\n",
       "<tr>\n",
       "  <th>Intercept</th>  <td>   -2.4424</td> <td>    0.263</td> <td>   -9.269</td> <td> 0.000</td> <td>   -2.959</td> <td>   -1.926</td>\n",
       "</tr>\n",
       "<tr>\n",
       "  <th>Alter</th>      <td>    0.0180</td> <td>    0.007</td> <td>    2.623</td> <td> 0.009</td> <td>    0.005</td> <td>    0.031</td>\n",
       "</tr>\n",
       "<tr>\n",
       "  <th>Geschlecht</th> <td>    0.2464</td> <td>    0.103</td> <td>    2.393</td> <td> 0.017</td> <td>    0.045</td> <td>    0.448</td>\n",
       "</tr>\n",
       "<tr>\n",
       "  <th>Einkommen</th>  <td>-4.208e-05</td> <td> 5.43e-06</td> <td>   -7.753</td> <td> 0.000</td> <td>-5.27e-05</td> <td>-3.14e-05</td>\n",
       "</tr>\n",
       "<tr>\n",
       "  <th>Zeit</th>       <td>    0.1022</td> <td>    0.006</td> <td>   17.530</td> <td> 0.000</td> <td>    0.091</td> <td>    0.114</td>\n",
       "</tr>\n",
       "</table>"
      ],
      "text/latex": [
       "\\begin{center}\n",
       "\\begin{tabular}{lclc}\n",
       "\\toprule\n",
       "\\textbf{Dep. Variable:}   &    gekauft\\_1    & \\textbf{  No. Observations:  } &     1995    \\\\\n",
       "\\textbf{Model:}           &      Logit       & \\textbf{  Df Residuals:      } &     1990    \\\\\n",
       "\\textbf{Method:}          &       MLE        & \\textbf{  Df Model:          } &        4    \\\\\n",
       "\\textbf{Date:}            & Thu, 04 Jan 2024 & \\textbf{  Pseudo R-squ.:     } &   0.1577    \\\\\n",
       "\\textbf{Time:}            &     19:21:59     & \\textbf{  Log-Likelihood:    } &   -1155.2   \\\\\n",
       "\\textbf{converged:}       &       True       & \\textbf{  LL-Null:           } &   -1371.4   \\\\\n",
       "\\textbf{Covariance Type:} &    nonrobust     & \\textbf{  LLR p-value:       } & 2.638e-92   \\\\\n",
       "\\bottomrule\n",
       "\\end{tabular}\n",
       "\\begin{tabular}{lcccccc}\n",
       "                    & \\textbf{coef} & \\textbf{std err} & \\textbf{z} & \\textbf{P$> |$z$|$} & \\textbf{[0.025} & \\textbf{0.975]}  \\\\\n",
       "\\midrule\n",
       "\\textbf{Intercept}  &      -2.4424  &        0.263     &    -9.269  &         0.000        &       -2.959    &       -1.926     \\\\\n",
       "\\textbf{Alter}      &       0.0180  &        0.007     &     2.623  &         0.009        &        0.005    &        0.031     \\\\\n",
       "\\textbf{Geschlecht} &       0.2464  &        0.103     &     2.393  &         0.017        &        0.045    &        0.448     \\\\\n",
       "\\textbf{Einkommen}  &   -4.208e-05  &     5.43e-06     &    -7.753  &         0.000        &    -5.27e-05    &    -3.14e-05     \\\\\n",
       "\\textbf{Zeit}       &       0.1022  &        0.006     &    17.530  &         0.000        &        0.091    &        0.114     \\\\\n",
       "\\bottomrule\n",
       "\\end{tabular}\n",
       "%\\caption{Logit Regression Results}\n",
       "\\end{center}"
      ],
      "text/plain": [
       "<class 'statsmodels.iolib.summary.Summary'>\n",
       "\"\"\"\n",
       "                           Logit Regression Results                           \n",
       "==============================================================================\n",
       "Dep. Variable:              gekauft_1   No. Observations:                 1995\n",
       "Model:                          Logit   Df Residuals:                     1990\n",
       "Method:                           MLE   Df Model:                            4\n",
       "Date:                Thu, 04 Jan 2024   Pseudo R-squ.:                  0.1577\n",
       "Time:                        19:21:59   Log-Likelihood:                -1155.2\n",
       "converged:                       True   LL-Null:                       -1371.4\n",
       "Covariance Type:            nonrobust   LLR p-value:                 2.638e-92\n",
       "==============================================================================\n",
       "                 coef    std err          z      P>|z|      [0.025      0.975]\n",
       "------------------------------------------------------------------------------\n",
       "Intercept     -2.4424      0.263     -9.269      0.000      -2.959      -1.926\n",
       "Alter          0.0180      0.007      2.623      0.009       0.005       0.031\n",
       "Geschlecht     0.2464      0.103      2.393      0.017       0.045       0.448\n",
       "Einkommen  -4.208e-05   5.43e-06     -7.753      0.000   -5.27e-05   -3.14e-05\n",
       "Zeit           0.1022      0.006     17.530      0.000       0.091       0.114\n",
       "==============================================================================\n",
       "\"\"\""
      ]
     },
     "execution_count": 707,
     "metadata": {},
     "output_type": "execute_result"
    }
   ],
   "source": [
    "reg1_gekauft.summary()"
   ]
  },
  {
   "cell_type": "code",
   "execution_count": 708,
   "id": "ff3adb1a",
   "metadata": {
    "slideshow": {
     "slide_type": "skip"
    }
   },
   "outputs": [
    {
     "data": {
      "text/html": [
       "<table style=\"text-align:center\"><tr><td colspan=\"2\" style=\"border-bottom: 1px solid black\"></td></tr>\n",
       "<tr><td style=\"text-align:left\"></td><td colspan=\"1\"><em>Dependent variable: gekauft_1</em></td></tr><tr><td style=\"text-align:left\"></td><tr><td style=\"text-align:left\"></td><td>(1)</td></tr>\n",
       "<tr><td colspan=\"2\" style=\"border-bottom: 1px solid black\"></td></tr>\n",
       "\n",
       "<tr><td style=\"text-align:left\">Alter</td><td>0.018<sup>***</sup></td></tr>\n",
       "<tr><td style=\"text-align:left\"></td><td>(0.007)</td></tr>\n",
       "<tr><td style=\"text-align:left\">Einkommen</td><td>-0.000<sup>***</sup></td></tr>\n",
       "<tr><td style=\"text-align:left\"></td><td>(0.000)</td></tr>\n",
       "<tr><td style=\"text-align:left\">Geschlecht</td><td>0.246<sup>**</sup></td></tr>\n",
       "<tr><td style=\"text-align:left\"></td><td>(0.103)</td></tr>\n",
       "<tr><td style=\"text-align:left\">Intercept</td><td>-2.442<sup>***</sup></td></tr>\n",
       "<tr><td style=\"text-align:left\"></td><td>(0.263)</td></tr>\n",
       "<tr><td style=\"text-align:left\">Zeit</td><td>0.102<sup>***</sup></td></tr>\n",
       "<tr><td style=\"text-align:left\"></td><td>(0.006)</td></tr>\n",
       "\n",
       "<td colspan=\"2\" style=\"border-bottom: 1px solid black\"></td></tr>\n",
       "<tr><td style=\"text-align: left\">Observations</td><td>1995</td></tr>\n",
       "<tr><td colspan=\"2\" style=\"border-bottom: 1px solid black\"></td></tr><tr><td style=\"text-align: left\">Note:</td><td colspan=\"1\" style=\"text-align: right\"><sup>*</sup>p&lt;0.1; <sup>**</sup>p&lt;0.05; <sup>***</sup>p&lt;0.01</td></tr></table>"
      ],
      "text/plain": [
       "<stargazer.stargazer.Stargazer at 0x1fa6b9c0a10>"
      ]
     },
     "execution_count": 708,
     "metadata": {},
     "output_type": "execute_result"
    }
   ],
   "source": [
    "Stargazer([reg1_gekauft])"
   ]
  },
  {
   "cell_type": "markdown",
   "id": "3502331d",
   "metadata": {
    "slideshow": {
     "slide_type": "slide"
    }
   },
   "source": [
    "# 18. Wie hoch ist die Wahrscheinlichkeit, dass ein 32-jähriger männlicher Kunde mit einem Einkommen von 30.000 Euro, der das Auto 30 Minuten lang getestet hat, eines unserer Modelle kauft? Wie hoch ist die Wahrscheinlichkeit, dass ein 51-jähriger männlicher Kunde mit einem Einkommen von 54.000 Euro, der das Auto 45 Minuten lang getestet hat, eines unserer Modelle kauft?"
   ]
  },
  {
   "cell_type": "code",
   "execution_count": 709,
   "id": "91c72d77",
   "metadata": {
    "slideshow": {
     "slide_type": "skip"
    }
   },
   "outputs": [
    {
     "data": {
      "text/html": [
       "<div>\n",
       "<style scoped>\n",
       "    .dataframe tbody tr th:only-of-type {\n",
       "        vertical-align: middle;\n",
       "    }\n",
       "\n",
       "    .dataframe tbody tr th {\n",
       "        vertical-align: top;\n",
       "    }\n",
       "\n",
       "    .dataframe thead th {\n",
       "        text-align: right;\n",
       "    }\n",
       "</style>\n",
       "<table border=\"1\" class=\"dataframe\">\n",
       "  <thead>\n",
       "    <tr style=\"text-align: right;\">\n",
       "      <th></th>\n",
       "      <th>const</th>\n",
       "      <th>Alter</th>\n",
       "      <th>Geschlecht</th>\n",
       "      <th>Einkommen</th>\n",
       "      <th>Zeit</th>\n",
       "    </tr>\n",
       "  </thead>\n",
       "  <tbody>\n",
       "    <tr>\n",
       "      <th>0</th>\n",
       "      <td>1.0</td>\n",
       "      <td>32</td>\n",
       "      <td>1</td>\n",
       "      <td>30000</td>\n",
       "      <td>30</td>\n",
       "    </tr>\n",
       "    <tr>\n",
       "      <th>1</th>\n",
       "      <td>1.0</td>\n",
       "      <td>51</td>\n",
       "      <td>1</td>\n",
       "      <td>54000</td>\n",
       "      <td>45</td>\n",
       "    </tr>\n",
       "  </tbody>\n",
       "</table>\n",
       "</div>"
      ],
      "text/plain": [
       "   const  Alter  Geschlecht  Einkommen  Zeit\n",
       "0    1.0     32           1      30000    30\n",
       "1    1.0     51           1      54000    45"
      ]
     },
     "execution_count": 709,
     "metadata": {},
     "output_type": "execute_result"
    }
   ],
   "source": [
    "Y_predict = pd.DataFrame({\n",
    "    'Alter': [32, 51],           \n",
    "    'Geschlecht': [1, 1],\n",
    "    'Einkommen': [30000, 54000],\n",
    "    \"Zeit\": [30, 45]\n",
    "})\n",
    "\n",
    "Y_predict = add_constant(Y_predict, has_constant='add')\n",
    "Y_predict"
   ]
  },
  {
   "cell_type": "code",
   "execution_count": 710,
   "id": "c2456d15",
   "metadata": {
    "slideshow": {
     "slide_type": "fragment"
    }
   },
   "outputs": [
    {
     "data": {
      "text/plain": [
       "0    54.561387\n",
       "1    74.032531\n",
       "dtype: float64"
      ]
     },
     "execution_count": 710,
     "metadata": {},
     "output_type": "execute_result"
    }
   ],
   "source": [
    "predicted_preis = reg1_gekauft.predict(Y_predict)\n",
    "(predicted_preis*100)"
   ]
  },
  {
   "cell_type": "markdown",
   "id": "634ce7c3",
   "metadata": {
    "slideshow": {
     "slide_type": "slide"
    }
   },
   "source": [
    "# 19. Auf welche Probleme sind Sie bei der Zusammenführung des Datensatzes gestoßen? Stellen Sie die Operationen vor, die Sie zum Zusammenführen und Bereinigen der Daten durchgeführt haben."
   ]
  },
  {
   "cell_type": "markdown",
   "id": "6b89b60c",
   "metadata": {
    "slideshow": {
     "slide_type": "fragment"
    }
   },
   "source": [
    "geo_df = pd.read_csv(\"data/geo.txt\", sep = \"\\t\")\n",
    "kunden_df[\"Einkommen\"] = kunden_df[\"Einkommen\"].astype(\"int\")\n",
    "geo_df[\"Niederlassung\"] = geo_df[\"Niederlassung\"].replace([\"Berlin-Charlottenburg\", \"Berlin-Mitte\", \"BERLIN\"], \"Berlin\")\n",
    "data_df.loc[data_df['KundeNr'].isin([\"K0701\", \"K1021\"]), 'Einkommen'] = int(data_df['Einkommen'].median())"
   ]
  },
  {
   "cell_type": "markdown",
   "id": "a5582517",
   "metadata": {
    "slideshow": {
     "slide_type": "slide"
    }
   },
   "source": [
    "# 20. Welche Vorschläge würden Sie der Kundenabteilung für die Umfrage im nächsten Jahr machen? Welche zusätzlichen Informationen sollten gesammelt werden? Formulieren Sie zwei Vorschläge."
   ]
  },
  {
   "cell_type": "markdown",
   "id": "1d70d118",
   "metadata": {
    "slideshow": {
     "slide_type": "fragment"
    }
   },
   "source": [
    "Wir würden unserer Kundenabteilung vorschlagen in Zukunft Informationen, über den hoechsten abgeschlossenen Bildungsgrad unserer Kunden, als auch das Datum des Kaufes zu sammeln. "
   ]
  }
 ],
 "metadata": {
  "celltoolbar": "Slideshow",
  "kernelspec": {
   "display_name": "Python 3 (ipykernel)",
   "language": "python",
   "name": "python3"
  },
  "language_info": {
   "codemirror_mode": {
    "name": "ipython",
    "version": 3
   },
   "file_extension": ".py",
   "mimetype": "text/x-python",
   "name": "python",
   "nbconvert_exporter": "python",
   "pygments_lexer": "ipython3",
   "version": "3.11.5"
  }
 },
 "nbformat": 4,
 "nbformat_minor": 5
}
