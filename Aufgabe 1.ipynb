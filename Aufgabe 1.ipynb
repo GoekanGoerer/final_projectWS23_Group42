{
 "cells": [
  {
   "cell_type": "code",
   "execution_count": 1,
   "id": "c2c3e8b1",
   "metadata": {},
   "outputs": [],
   "source": [
    "import pandas as pd\n",
    "import numpy as np"
   ]
  },
  {
   "cell_type": "code",
   "execution_count": 5,
   "id": "9dce0833",
   "metadata": {},
   "outputs": [],
   "source": [
    "df = pd.read_csv(\"data/Datensatz.csv\")"
   ]
  },
  {
   "cell_type": "code",
   "execution_count": 6,
   "id": "cb7db7ac",
   "metadata": {},
   "outputs": [
    {
     "data": {
      "text/html": [
       "<div>\n",
       "<style scoped>\n",
       "    .dataframe tbody tr th:only-of-type {\n",
       "        vertical-align: middle;\n",
       "    }\n",
       "\n",
       "    .dataframe tbody tr th {\n",
       "        vertical-align: top;\n",
       "    }\n",
       "\n",
       "    .dataframe thead th {\n",
       "        text-align: right;\n",
       "    }\n",
       "</style>\n",
       "<table border=\"1\" class=\"dataframe\">\n",
       "  <thead>\n",
       "    <tr style=\"text-align: right;\">\n",
       "      <th></th>\n",
       "      <th>Unnamed: 0</th>\n",
       "      <th>Alter</th>\n",
       "      <th>Einkommen</th>\n",
       "      <th>Geschlecht</th>\n",
       "      <th>Zeit</th>\n",
       "      <th>KundeNr</th>\n",
       "      <th>Preis</th>\n",
       "      <th>Niederlassung</th>\n",
       "    </tr>\n",
       "  </thead>\n",
       "  <tbody>\n",
       "    <tr>\n",
       "      <th>0</th>\n",
       "      <td>0</td>\n",
       "      <td>30</td>\n",
       "      <td>39919</td>\n",
       "      <td>0.0</td>\n",
       "      <td>29</td>\n",
       "      <td>K1814</td>\n",
       "      <td>NaN</td>\n",
       "      <td>Bayern</td>\n",
       "    </tr>\n",
       "    <tr>\n",
       "      <th>1</th>\n",
       "      <td>1</td>\n",
       "      <td>41</td>\n",
       "      <td>53430</td>\n",
       "      <td>0.0</td>\n",
       "      <td>27</td>\n",
       "      <td>K1544</td>\n",
       "      <td>NaN</td>\n",
       "      <td>Baden-Württemberg</td>\n",
       "    </tr>\n",
       "    <tr>\n",
       "      <th>2</th>\n",
       "      <td>2</td>\n",
       "      <td>64</td>\n",
       "      <td>73163</td>\n",
       "      <td>0.0</td>\n",
       "      <td>32</td>\n",
       "      <td>K1945</td>\n",
       "      <td>NaN</td>\n",
       "      <td>Baden-Württemberg</td>\n",
       "    </tr>\n",
       "    <tr>\n",
       "      <th>3</th>\n",
       "      <td>3</td>\n",
       "      <td>41</td>\n",
       "      <td>36761</td>\n",
       "      <td>0.0</td>\n",
       "      <td>44</td>\n",
       "      <td>K1825</td>\n",
       "      <td>NaN</td>\n",
       "      <td>Baden-Württemberg</td>\n",
       "    </tr>\n",
       "    <tr>\n",
       "      <th>4</th>\n",
       "      <td>4</td>\n",
       "      <td>35</td>\n",
       "      <td>42684</td>\n",
       "      <td>1.0</td>\n",
       "      <td>33</td>\n",
       "      <td>K1144</td>\n",
       "      <td>NaN</td>\n",
       "      <td>Nordrhein-Westfalen</td>\n",
       "    </tr>\n",
       "  </tbody>\n",
       "</table>\n",
       "</div>"
      ],
      "text/plain": [
       "   Unnamed: 0  Alter  Einkommen  Geschlecht  Zeit KundeNr  Preis  \\\n",
       "0           0     30      39919         0.0    29   K1814    NaN   \n",
       "1           1     41      53430         0.0    27   K1544    NaN   \n",
       "2           2     64      73163         0.0    32   K1945    NaN   \n",
       "3           3     41      36761         0.0    44   K1825    NaN   \n",
       "4           4     35      42684         1.0    33   K1144    NaN   \n",
       "\n",
       "         Niederlassung  \n",
       "0               Bayern  \n",
       "1    Baden-Württemberg  \n",
       "2    Baden-Württemberg  \n",
       "3    Baden-Württemberg  \n",
       "4  Nordrhein-Westfalen  "
      ]
     },
     "execution_count": 6,
     "metadata": {},
     "output_type": "execute_result"
    }
   ],
   "source": [
    "df.head()"
   ]
  },
  {
   "cell_type": "code",
   "execution_count": 13,
   "id": "1877b5c4",
   "metadata": {},
   "outputs": [
    {
     "data": {
      "text/plain": [
       "1104"
      ]
     },
     "execution_count": 13,
     "metadata": {},
     "output_type": "execute_result"
    }
   ],
   "source": [
    "# wie viele Autos wurden verkauft?\n",
    "Anzahl_Autos = df[\"Preis\"].notna().sum()\n",
    "Anzahl_Autos"
   ]
  },
  {
   "cell_type": "code",
   "execution_count": 15,
   "id": "78eac4af",
   "metadata": {},
   "outputs": [
    {
     "data": {
      "text/plain": [
       "count     1995\n",
       "unique       2\n",
       "top       True\n",
       "freq      1104\n",
       "Name: Preis, dtype: object"
      ]
     },
     "execution_count": 15,
     "metadata": {},
     "output_type": "execute_result"
    }
   ],
   "source": [
    "#wie viel ist der höchst, mindest und durchschnittspreis der verkauften Autos?\n",
    "Anzahl_Autos = df[\"Preis\"].notna().describe()\n",
    "Anzahl_Autos"
   ]
  },
  {
   "cell_type": "code",
   "execution_count": null,
   "id": "4aa90a7b",
   "metadata": {},
   "outputs": [],
   "source": []
  },
  {
   "cell_type": "code",
   "execution_count": null,
   "id": "e7b7da42",
   "metadata": {},
   "outputs": [],
   "source": []
  }
 ],
 "metadata": {
  "kernelspec": {
   "display_name": "Python 3 (ipykernel)",
   "language": "python",
   "name": "python3"
  },
  "language_info": {
   "codemirror_mode": {
    "name": "ipython",
    "version": 3
   },
   "file_extension": ".py",
   "mimetype": "text/x-python",
   "name": "python",
   "nbconvert_exporter": "python",
   "pygments_lexer": "ipython3",
   "version": "3.11.5"
  }
 },
 "nbformat": 4,
 "nbformat_minor": 5
}
