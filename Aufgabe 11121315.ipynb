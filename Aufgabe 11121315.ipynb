{
 "cells": [
  {
   "cell_type": "code",
   "execution_count": 46,
   "id": "607fc8ba",
   "metadata": {},
   "outputs": [],
   "source": [
    "import pandas as pd\n",
    "import seaborn as sns\n",
    "import matplotlib.pyplot as plt\n",
    "import numpy as np"
   ]
  },
  {
   "cell_type": "code",
   "execution_count": 47,
   "id": "1018c650",
   "metadata": {
    "scrolled": true
   },
   "outputs": [
    {
     "data": {
      "text/html": [
       "<div>\n",
       "<style scoped>\n",
       "    .dataframe tbody tr th:only-of-type {\n",
       "        vertical-align: middle;\n",
       "    }\n",
       "\n",
       "    .dataframe tbody tr th {\n",
       "        vertical-align: top;\n",
       "    }\n",
       "\n",
       "    .dataframe thead th {\n",
       "        text-align: right;\n",
       "    }\n",
       "</style>\n",
       "<table border=\"1\" class=\"dataframe\">\n",
       "  <thead>\n",
       "    <tr style=\"text-align: right;\">\n",
       "      <th></th>\n",
       "      <th>Unnamed: 0</th>\n",
       "      <th>Alter</th>\n",
       "      <th>Einkommen</th>\n",
       "      <th>Geschlecht</th>\n",
       "      <th>Zeit</th>\n",
       "      <th>KundeNr</th>\n",
       "      <th>Preis</th>\n",
       "      <th>Niederlassung</th>\n",
       "    </tr>\n",
       "  </thead>\n",
       "  <tbody>\n",
       "    <tr>\n",
       "      <th>1990</th>\n",
       "      <td>1990</td>\n",
       "      <td>70</td>\n",
       "      <td>69581</td>\n",
       "      <td>1.0</td>\n",
       "      <td>51</td>\n",
       "      <td>K0467</td>\n",
       "      <td>103751.58</td>\n",
       "      <td>Thüringen</td>\n",
       "    </tr>\n",
       "    <tr>\n",
       "      <th>1991</th>\n",
       "      <td>1991</td>\n",
       "      <td>38</td>\n",
       "      <td>48301</td>\n",
       "      <td>1.0</td>\n",
       "      <td>33</td>\n",
       "      <td>K0122</td>\n",
       "      <td>64230.98</td>\n",
       "      <td>Niedersachsen</td>\n",
       "    </tr>\n",
       "    <tr>\n",
       "      <th>1992</th>\n",
       "      <td>1992</td>\n",
       "      <td>67</td>\n",
       "      <td>63547</td>\n",
       "      <td>1.0</td>\n",
       "      <td>41</td>\n",
       "      <td>K1045</td>\n",
       "      <td>103123.57</td>\n",
       "      <td>Berlin</td>\n",
       "    </tr>\n",
       "    <tr>\n",
       "      <th>1993</th>\n",
       "      <td>1993</td>\n",
       "      <td>37</td>\n",
       "      <td>32686</td>\n",
       "      <td>1.0</td>\n",
       "      <td>36</td>\n",
       "      <td>K1096</td>\n",
       "      <td>49215.87</td>\n",
       "      <td>Baden-Württemberg</td>\n",
       "    </tr>\n",
       "    <tr>\n",
       "      <th>1994</th>\n",
       "      <td>1994</td>\n",
       "      <td>55</td>\n",
       "      <td>71240</td>\n",
       "      <td>1.0</td>\n",
       "      <td>49</td>\n",
       "      <td>K0861</td>\n",
       "      <td>106132.59</td>\n",
       "      <td>Bayern</td>\n",
       "    </tr>\n",
       "  </tbody>\n",
       "</table>\n",
       "</div>"
      ],
      "text/plain": [
       "      Unnamed: 0  Alter  Einkommen  Geschlecht  Zeit KundeNr      Preis  \\\n",
       "1990        1990     70      69581         1.0    51   K0467  103751.58   \n",
       "1991        1991     38      48301         1.0    33   K0122   64230.98   \n",
       "1992        1992     67      63547         1.0    41   K1045  103123.57   \n",
       "1993        1993     37      32686         1.0    36   K1096   49215.87   \n",
       "1994        1994     55      71240         1.0    49   K0861  106132.59   \n",
       "\n",
       "          Niederlassung  \n",
       "1990          Thüringen  \n",
       "1991      Niedersachsen  \n",
       "1992             Berlin  \n",
       "1993  Baden-Württemberg  \n",
       "1994             Bayern  "
      ]
     },
     "execution_count": 47,
     "metadata": {},
     "output_type": "execute_result"
    }
   ],
   "source": [
    "df = pd.read_csv(\"data/Datensatz.csv\")\n",
    "df.tail()"
   ]
  },
  {
   "cell_type": "code",
   "execution_count": 48,
   "id": "8ee72b5f",
   "metadata": {},
   "outputs": [
    {
     "name": "stdout",
     "output_type": "stream",
     "text": [
      "      Alter  Einkommen      Preis  Zeit\n",
      "0        30      39919        NaN    29\n",
      "1        41      53430        NaN    27\n",
      "2        64      73163        NaN    32\n",
      "3        41      36761        NaN    44\n",
      "4        35      42684        NaN    33\n",
      "...     ...        ...        ...   ...\n",
      "1990     70      69581  103751.58    51\n",
      "1991     38      48301   64230.98    33\n",
      "1992     67      63547  103123.57    41\n",
      "1993     37      32686   49215.87    36\n",
      "1994     55      71240  106132.59    49\n",
      "\n",
      "[1995 rows x 4 columns]\n"
     ]
    }
   ],
   "source": [
    "selected_columns = [\"Alter\", \"Einkommen\", \"Preis\", \"Zeit\"]\n",
    "\n",
    "new_df = df[selected_columns]\n",
    "\n",
    "print(new_df)"
   ]
  },
  {
   "cell_type": "code",
   "execution_count": 49,
   "id": "3805d1d5",
   "metadata": {},
   "outputs": [
    {
     "data": {
      "image/png": "[encoded data removed]",
      "text/plain": [
       "<Figure size 500x500 with 2 Axes>"
      ]
     },
     "metadata": {},
     "output_type": "display_data"
    }
   ],
   "source": [
    "plt.figure(figsize = (5, 5))\n",
    "\n",
    "sns.heatmap(\n",
    "    new_df.select_dtypes(np.number).corr(),\n",
    "    cmap = 'coolwarm',\n",
    "    annot = True,\n",
    "    annot_kws = {\"size\": 8}\n",
    ");"
   ]
  },
  {
   "cell_type": "markdown",
   "id": "8981c6e9",
   "metadata": {},
   "source": [
    "# Aufgabe 12"
   ]
  },
  {
   "cell_type": "code",
   "execution_count": 50,
   "id": "3ea11419",
   "metadata": {},
   "outputs": [
    {
     "name": "stderr",
     "output_type": "stream",
     "text": [
      "C:\\Users\\s_goerer20\\AppData\\Local\\Temp\\ipykernel_6468\\1193611392.py:1: UserWarning: \n",
      "\n",
      "`distplot` is a deprecated function and will be removed in seaborn v0.14.0.\n",
      "\n",
      "Please adapt your code to use either `displot` (a figure-level function with\n",
      "similar flexibility) or `histplot` (an axes-level function for histograms).\n",
      "\n",
      "For a guide to updating your code to use the new functions, please see\n",
      "https://gist.github.com/mwaskom/de44147ed2974457ad6372750bbe5751\n",
      "\n",
      "  sns.distplot(df[\"Zeit\"])\n"
     ]
    },
    {
     "data": {
      "text/plain": [
       "<Axes: xlabel='Zeit', ylabel='Density'>"
      ]
     },
     "execution_count": 50,
     "metadata": {},
     "output_type": "execute_result"
    },
    {
     "data": {
      "image/png": "[encoded data removed]",
      "text/plain": [
       "<Figure size 640x480 with 1 Axes>"
      ]
     },
     "metadata": {},
     "output_type": "display_data"
    }
   ],
   "source": [
    "sns.distplot(df[\"Zeit\"])"
   ]
  },
  {
   "cell_type": "markdown",
   "id": "106c64fe",
   "metadata": {},
   "source": [
    "# Aufgabe 13"
   ]
  },
  {
   "cell_type": "code",
   "execution_count": 51,
   "id": "0ee4a031",
   "metadata": {},
   "outputs": [
    {
     "data": {
      "text/plain": [
       "1099"
      ]
     },
     "execution_count": 51,
     "metadata": {},
     "output_type": "execute_result"
    }
   ],
   "source": [
    "Anzahl_Kreditnehmer = (df['Preis'] > df['Einkommen']).sum()\n",
    "Anzahl_Kreditnehmer"
   ]
  },
  {
   "cell_type": "markdown",
   "id": "5f6eb815",
   "metadata": {},
   "source": [
    "# Aufgabe 15"
   ]
  },
  {
   "cell_type": "code",
   "execution_count": 52,
   "id": "63201293",
   "metadata": {},
   "outputs": [],
   "source": [
    "from statsmodels.api import add_constant"
   ]
  },
  {
   "cell_type": "code",
   "execution_count": 55,
   "id": "623090f4",
   "metadata": {},
   "outputs": [
    {
     "data": {
      "text/html": [
       "<div>\n",
       "<style scoped>\n",
       "    .dataframe tbody tr th:only-of-type {\n",
       "        vertical-align: middle;\n",
       "    }\n",
       "\n",
       "    .dataframe tbody tr th {\n",
       "        vertical-align: top;\n",
       "    }\n",
       "\n",
       "    .dataframe thead th {\n",
       "        text-align: right;\n",
       "    }\n",
       "</style>\n",
       "<table border=\"1\" class=\"dataframe\">\n",
       "  <thead>\n",
       "    <tr style=\"text-align: right;\">\n",
       "      <th></th>\n",
       "      <th>const</th>\n",
       "      <th>Alter</th>\n",
       "      <th>Geschlecht</th>\n",
       "      <th>Einkommen</th>\n",
       "    </tr>\n",
       "  </thead>\n",
       "  <tbody>\n",
       "    <tr>\n",
       "      <th>0</th>\n",
       "      <td>1.0</td>\n",
       "      <td>32</td>\n",
       "      <td>1</td>\n",
       "      <td>30000</td>\n",
       "    </tr>\n",
       "    <tr>\n",
       "      <th>1</th>\n",
       "      <td>1.0</td>\n",
       "      <td>51</td>\n",
       "      <td>1</td>\n",
       "      <td>54000</td>\n",
       "    </tr>\n",
       "  </tbody>\n",
       "</table>\n",
       "</div>"
      ],
      "text/plain": [
       "   const  Alter  Geschlecht  Einkommen\n",
       "0    1.0     32           1      30000\n",
       "1    1.0     51           1      54000"
      ]
     },
     "execution_count": 55,
     "metadata": {},
     "output_type": "execute_result"
    }
   ],
   "source": [
    "X_predict = pd.DataFrame({\n",
    "    'Alter': [32, 51],           \n",
    "    'Geschlecht': [1, 1],\n",
    "    'Einkommen': [30000, 54000] \n",
    "})\n",
    "\n",
    "X_predict = add_constant(X_predict, has_constant='add')\n",
    "X_predict"
   ]
  },
  {
   "cell_type": "code",
   "execution_count": null,
   "id": "1af1c70e",
   "metadata": {},
   "outputs": [],
   "source": [
    "predicted_probabilities = reg2.predict(X_predict)\n",
    "print(predicted_probabilities*100)"
   ]
  }
 ],
 "metadata": {
  "kernelspec": {
   "display_name": "Python 3 (ipykernel)",
   "language": "python",
   "name": "python3"
  },
  "language_info": {
   "codemirror_mode": {
    "name": "ipython",
    "version": 3
   },
   "file_extension": ".py",
   "mimetype": "text/x-python",
   "name": "python",
   "nbconvert_exporter": "python",
   "pygments_lexer": "ipython3",
   "version": "3.11.5"
  }
 },
 "nbformat": 4,
 "nbformat_minor": 5
}
