{
 "cells": [
  {
   "cell_type": "code",
   "execution_count": 1,
   "id": "281de839",
   "metadata": {},
   "outputs": [],
   "source": [
    "import pandas as pd\n",
    "import numpy as np\n",
    "import seaborn as sns\n",
    "import matplotlib.pyplot as plt\n",
    "import plotly.express as px"
   ]
  },
  {
   "cell_type": "code",
   "execution_count": 2,
   "id": "aee7630d",
   "metadata": {},
   "outputs": [],
   "source": [
    "df = pd.read_csv(\"data/Datensatz.csv\")"
   ]
  },
  {
   "cell_type": "code",
   "execution_count": 3,
   "id": "a034e6bf",
   "metadata": {},
   "outputs": [
    {
     "data": {
      "text/html": [
       "<div>\n",
       "<style scoped>\n",
       "    .dataframe tbody tr th:only-of-type {\n",
       "        vertical-align: middle;\n",
       "    }\n",
       "\n",
       "    .dataframe tbody tr th {\n",
       "        vertical-align: top;\n",
       "    }\n",
       "\n",
       "    .dataframe thead th {\n",
       "        text-align: right;\n",
       "    }\n",
       "</style>\n",
       "<table border=\"1\" class=\"dataframe\">\n",
       "  <thead>\n",
       "    <tr style=\"text-align: right;\">\n",
       "      <th></th>\n",
       "      <th>Unnamed: 0</th>\n",
       "      <th>Alter</th>\n",
       "      <th>Einkommen</th>\n",
       "      <th>Geschlecht</th>\n",
       "      <th>Zeit</th>\n",
       "      <th>KundeNr</th>\n",
       "      <th>Preis</th>\n",
       "      <th>Niederlassung</th>\n",
       "    </tr>\n",
       "  </thead>\n",
       "  <tbody>\n",
       "    <tr>\n",
       "      <th>0</th>\n",
       "      <td>0</td>\n",
       "      <td>30</td>\n",
       "      <td>39919</td>\n",
       "      <td>0.0</td>\n",
       "      <td>29</td>\n",
       "      <td>K1814</td>\n",
       "      <td>NaN</td>\n",
       "      <td>Bayern</td>\n",
       "    </tr>\n",
       "    <tr>\n",
       "      <th>1</th>\n",
       "      <td>1</td>\n",
       "      <td>41</td>\n",
       "      <td>53430</td>\n",
       "      <td>0.0</td>\n",
       "      <td>27</td>\n",
       "      <td>K1544</td>\n",
       "      <td>NaN</td>\n",
       "      <td>Baden-Württemberg</td>\n",
       "    </tr>\n",
       "    <tr>\n",
       "      <th>2</th>\n",
       "      <td>2</td>\n",
       "      <td>64</td>\n",
       "      <td>73163</td>\n",
       "      <td>0.0</td>\n",
       "      <td>32</td>\n",
       "      <td>K1945</td>\n",
       "      <td>NaN</td>\n",
       "      <td>Baden-Württemberg</td>\n",
       "    </tr>\n",
       "    <tr>\n",
       "      <th>3</th>\n",
       "      <td>3</td>\n",
       "      <td>41</td>\n",
       "      <td>36761</td>\n",
       "      <td>0.0</td>\n",
       "      <td>44</td>\n",
       "      <td>K1825</td>\n",
       "      <td>NaN</td>\n",
       "      <td>Baden-Württemberg</td>\n",
       "    </tr>\n",
       "    <tr>\n",
       "      <th>4</th>\n",
       "      <td>4</td>\n",
       "      <td>35</td>\n",
       "      <td>42684</td>\n",
       "      <td>1.0</td>\n",
       "      <td>33</td>\n",
       "      <td>K1144</td>\n",
       "      <td>NaN</td>\n",
       "      <td>Nordrhein-Westfalen</td>\n",
       "    </tr>\n",
       "  </tbody>\n",
       "</table>\n",
       "</div>"
      ],
      "text/plain": [
       "   Unnamed: 0  Alter  Einkommen  Geschlecht  Zeit KundeNr  Preis  \\\n",
       "0           0     30      39919         0.0    29   K1814    NaN   \n",
       "1           1     41      53430         0.0    27   K1544    NaN   \n",
       "2           2     64      73163         0.0    32   K1945    NaN   \n",
       "3           3     41      36761         0.0    44   K1825    NaN   \n",
       "4           4     35      42684         1.0    33   K1144    NaN   \n",
       "\n",
       "         Niederlassung  \n",
       "0               Bayern  \n",
       "1    Baden-Württemberg  \n",
       "2    Baden-Württemberg  \n",
       "3    Baden-Württemberg  \n",
       "4  Nordrhein-Westfalen  "
      ]
     },
     "execution_count": 3,
     "metadata": {},
     "output_type": "execute_result"
    }
   ],
   "source": [
    "df.head()"
   ]
  },
  {
   "cell_type": "code",
   "execution_count": 4,
   "id": "1c9b9896",
   "metadata": {},
   "outputs": [
    {
     "data": {
      "text/plain": [
       "1104"
      ]
     },
     "execution_count": 4,
     "metadata": {},
     "output_type": "execute_result"
    }
   ],
   "source": [
    "Anzahl_Autos = df[\"Preis\"].notna().sum()\n",
    "Anzahl_Autos"
   ]
  },
  {
   "cell_type": "code",
   "execution_count": 5,
   "id": "5eef3258",
   "metadata": {},
   "outputs": [
    {
     "name": "stdout",
     "output_type": "stream",
     "text": [
      "MAX: 165482.31\n",
      "Min: 21471.65\n",
      "AVG: 88975.19871376811\n"
     ]
    }
   ],
   "source": [
    "#Aufgabe 2 \n",
    "#Was ist der Höchst-, Mindest- und Durchschnittspreis der verkauften Autos?\n",
    "\n",
    "Hoechst_Preis = df[\"Preis\"].max()\n",
    "print(\"MAX:\", Hoechst_Preis )\n",
    "\n",
    "Mindest_Preis = df[\"Preis\"].min()\n",
    "print(\"Min:\", Mindest_Preis)\n",
    "\n",
    "AVG_Preis = df[\"Preis\"].mean()\n",
    "print(\"AVG:\", AVG_Preis )\n"
   ]
  },
  {
   "cell_type": "code",
   "execution_count": 6,
   "id": "5dd12307",
   "metadata": {},
   "outputs": [
    {
     "name": "stdout",
     "output_type": "stream",
     "text": [
      "Gesamt: 98228619.38\n"
     ]
    }
   ],
   "source": [
    "#Aufgabe 3 \n",
    "# Wie hoch war der Gesamtumsatz?\n",
    "\n",
    "Gesamt_Umsatz = df[\"Preis\"].sum()\n",
    "print(\"Gesamt:\", Gesamt_Umsatz)\n"
   ]
  },
  {
   "cell_type": "code",
   "execution_count": 7,
   "id": "e0261195",
   "metadata": {},
   "outputs": [
    {
     "data": {
      "text/plain": [
       "Niederlassung\n",
       "Baden-Württemberg      205\n",
       "Bayern                 188\n",
       "Berlin                 126\n",
       "Brandenburg             37\n",
       "Düsseldorf               1\n",
       "Hamburg                 43\n",
       "Hessen                  96\n",
       "Niedersachsen           96\n",
       "Nordrhein-Westfalen    174\n",
       "Sachsen                 89\n",
       "Thüringen               49\n",
       "Name: Preis, dtype: int64"
      ]
     },
     "execution_count": 7,
     "metadata": {},
     "output_type": "execute_result"
    }
   ],
   "source": [
    "# Aufgabe 4 \n",
    "# Wie viele Autos wurden pro Bundesland verkauft?\n",
    "\n",
    "autos_pro_bundesland = df.groupby('Niederlassung')['Preis'].count()\n",
    "autos_pro_bundesland"
   ]
  },
  {
   "cell_type": "code",
   "execution_count": 8,
   "id": "a2e760d7",
   "metadata": {},
   "outputs": [
    {
     "data": {
      "text/plain": [
       "Niederlassung\n",
       "Baden-Württemberg       90969.560000\n",
       "Bayern                  89344.313245\n",
       "Berlin                  89584.984048\n",
       "Brandenburg             86673.640811\n",
       "Düsseldorf             120215.500000\n",
       "Hamburg                 85549.499070\n",
       "Hessen                  85864.929479\n",
       "Niedersachsen           87963.312500\n",
       "Nordrhein-Westfalen     88451.758103\n",
       "Sachsen                 89455.080674\n",
       "Thüringen               90816.994082\n",
       "Name: Preis, dtype: float64"
      ]
     },
     "execution_count": 8,
     "metadata": {},
     "output_type": "execute_result"
    }
   ],
   "source": [
    "# Aufgabe 5\n",
    "# Wie hoch war der durchschnittliche Umsatz pro Bundesland?\n",
    "\n",
    "auto_preis_pro_bundesland = df.groupby('Niederlassung')['Preis'].mean()\n",
    "auto_preis_pro_bundesland\n"
   ]
  },
  {
   "cell_type": "code",
   "execution_count": 9,
   "id": "85a43160",
   "metadata": {},
   "outputs": [
    {
     "name": "stdout",
     "output_type": "stream",
     "text": [
      "Die Anzahl der Maenner war hoeher: 706 , die Anzahl der Frauen dagegen war 398\n"
     ]
    }
   ],
   "source": [
    "# Aufgabe 6\n",
    "# Haben mehr Frauen oder mehr Männer unsere Autos gekauft?\n",
    "\n",
    "anzahl_frauen = df[df['Geschlecht'] == 0]['Preis'].count()\n",
    "anzahl_maenner = df[df['Geschlecht'] == 1]['Preis'].count()\n",
    "\n",
    "if anzahl_frauen > anzahl_maenner: \n",
    "    print(\"Die Anzahl der Frauen war hoeher:\", anzahl_frauen, \", die Anzahl der Maenner dagegen war\", anzahl_maenner)\n",
    "else: \n",
    "    print(\"Die Anzahl der Maenner war hoeher:\", anzahl_maenner, \", die Anzahl der Frauen dagegen war\", anzahl_frauen)"
   ]
  },
  {
   "cell_type": "code",
   "execution_count": 10,
   "id": "bcb7463e",
   "metadata": {},
   "outputs": [
    {
     "name": "stdout",
     "output_type": "stream",
     "text": [
      "49.88103254769921\n"
     ]
    }
   ],
   "source": [
    "# Aufagbe 7 \n",
    "# Wie hoch ist das Durchschnittsalter unserer Kunden? (Rüberschauen)\n",
    "\n",
    "durchschnittsalter = df[df['Preis'].isna()]['Alter'].mean()\n",
    "print(durchschnittsalter)"
   ]
  },
  {
   "cell_type": "code",
   "execution_count": 11,
   "id": "30257b60",
   "metadata": {},
   "outputs": [
    {
     "name": "stdout",
     "output_type": "stream",
     "text": [
      "50.3731884057971\n"
     ]
    }
   ],
   "source": [
    "# Aufgabe 8\n",
    "# Wie hoch ist das Durchschnittsalter der Besucher in unseren Showrooms?\n",
    "\n",
    "durchschnittsalter = df[df['Preis'].notna()]['Alter'].mean()\n",
    "print(durchschnittsalter)"
   ]
  },
  {
   "cell_type": "code",
   "execution_count": 12,
   "id": "452313ee",
   "metadata": {},
   "outputs": [
    {
     "name": "stdout",
     "output_type": "stream",
     "text": [
      "49.55922330097087\n"
     ]
    }
   ],
   "source": [
    "# Aufgabe 9 \n",
    "# Was ist das Durchschnittsalter unserer männlichen Kunden?\n",
    "\n",
    "anzahl_maenner = df[df['Geschlecht'] == 1]\n",
    "\n",
    "durchschnittsalter = anzahl_maenner[anzahl_maenner['Preis'].isna()]['Alter'].mean()\n",
    "print(durchschnittsalter)"
   ]
  },
  {
   "cell_type": "code",
   "execution_count": 13,
   "id": "60fa6fd7",
   "metadata": {},
   "outputs": [
    {
     "name": "stdout",
     "output_type": "stream",
     "text": [
      "Durchschnittseinkommen: 59367.43097643097\n"
     ]
    }
   ],
   "source": [
    "# Aufgabe 10\n",
    "# Wie hoch ist das Durchschnittseinkommen unserer Kunden?\n",
    "\n",
    "Einkommen = df[df['Preis'].isna()][\"Einkommen\"].mean()\n",
    "print(\"Durchschnittseinkommen:\", Einkommen)"
   ]
  }
 ],
 "metadata": {
  "kernelspec": {
   "display_name": "Python 3 (ipykernel)",
   "language": "python",
   "name": "python3"
  },
  "language_info": {
   "codemirror_mode": {
    "name": "ipython",
    "version": 3
   },
   "file_extension": ".py",
   "mimetype": "text/x-python",
   "name": "python",
   "nbconvert_exporter": "python",
   "pygments_lexer": "ipython3",
   "version": "3.11.5"
  }
 },
 "nbformat": 4,
 "nbformat_minor": 5
}
