{
 "cells": [
  {
   "cell_type": "code",
   "execution_count": 2,
   "id": "328c5056",
   "metadata": {},
   "outputs": [],
   "source": [
    "import pandas as pd\n",
    "import numpy as np\n",
    "import matplotlib.pyplot as plt\n",
    "import seaborn as sns\n",
    "import plotly.express as px"
   ]
  },
  {
   "cell_type": "markdown",
   "id": "c3aa819e",
   "metadata": {},
   "source": [
    "# Daten importieren und untersuchen"
   ]
  },
  {
   "cell_type": "code",
   "execution_count": 3,
   "id": "81f9690d",
   "metadata": {
    "scrolled": true
   },
   "outputs": [
    {
     "data": {
      "text/html": [
       "<div>\n",
       "<style scoped>\n",
       "    .dataframe tbody tr th:only-of-type {\n",
       "        vertical-align: middle;\n",
       "    }\n",
       "\n",
       "    .dataframe tbody tr th {\n",
       "        vertical-align: top;\n",
       "    }\n",
       "\n",
       "    .dataframe thead th {\n",
       "        text-align: right;\n",
       "    }\n",
       "</style>\n",
       "<table border=\"1\" class=\"dataframe\">\n",
       "  <thead>\n",
       "    <tr style=\"text-align: right;\">\n",
       "      <th></th>\n",
       "      <th>KundeNr</th>\n",
       "      <th>Niederlassung</th>\n",
       "    </tr>\n",
       "  </thead>\n",
       "  <tbody>\n",
       "    <tr>\n",
       "      <th>0</th>\n",
       "      <td>K0001</td>\n",
       "      <td>Sachsen</td>\n",
       "    </tr>\n",
       "    <tr>\n",
       "      <th>1</th>\n",
       "      <td>K0002</td>\n",
       "      <td>NRW</td>\n",
       "    </tr>\n",
       "    <tr>\n",
       "      <th>2</th>\n",
       "      <td>K0003</td>\n",
       "      <td>Hessen</td>\n",
       "    </tr>\n",
       "    <tr>\n",
       "      <th>3</th>\n",
       "      <td>K0004</td>\n",
       "      <td>Bayern</td>\n",
       "    </tr>\n",
       "    <tr>\n",
       "      <th>4</th>\n",
       "      <td>K0005</td>\n",
       "      <td>Bayern</td>\n",
       "    </tr>\n",
       "  </tbody>\n",
       "</table>\n",
       "</div>"
      ],
      "text/plain": [
       "  KundeNr Niederlassung\n",
       "0   K0001       Sachsen\n",
       "1   K0002           NRW\n",
       "2   K0003        Hessen\n",
       "3   K0004        Bayern\n",
       "4   K0005        Bayern"
      ]
     },
     "execution_count": 3,
     "metadata": {},
     "output_type": "execute_result"
    }
   ],
   "source": [
    "besucher_df = pd.read_csv(\"data/besucher.csv\", sep = \";\", decimal = \".\")\n",
    "kunden_df = pd.read_csv(\"data/kunden.csv\", sep = \";\", decimal = \".\")\n",
    "geo_df = pd.read_csv(\"data/geo.txt\", sep = \"\\t\")\n",
    "\n",
    "besucher_df.dtypes\n",
    "kunden_df.dtypes\n",
    "geo_df.head()"
   ]
  },
  {
   "cell_type": "markdown",
   "id": "c73c8a54",
   "metadata": {},
   "source": [
    "# Daten säubern"
   ]
  },
  {
   "cell_type": "code",
   "execution_count": 4,
   "id": "637bd359",
   "metadata": {},
   "outputs": [
    {
     "data": {
      "text/html": [
       "<div>\n",
       "<style scoped>\n",
       "    .dataframe tbody tr th:only-of-type {\n",
       "        vertical-align: middle;\n",
       "    }\n",
       "\n",
       "    .dataframe tbody tr th {\n",
       "        vertical-align: top;\n",
       "    }\n",
       "\n",
       "    .dataframe thead th {\n",
       "        text-align: right;\n",
       "    }\n",
       "</style>\n",
       "<table border=\"1\" class=\"dataframe\">\n",
       "  <thead>\n",
       "    <tr style=\"text-align: right;\">\n",
       "      <th></th>\n",
       "      <th>Alter</th>\n",
       "      <th>Einkommen</th>\n",
       "      <th>Geschlecht</th>\n",
       "      <th>Zeit</th>\n",
       "      <th>KundeNr</th>\n",
       "    </tr>\n",
       "  </thead>\n",
       "  <tbody>\n",
       "    <tr>\n",
       "      <th>0</th>\n",
       "      <td>30</td>\n",
       "      <td>39919</td>\n",
       "      <td>0.0</td>\n",
       "      <td>29</td>\n",
       "      <td>K1814</td>\n",
       "    </tr>\n",
       "    <tr>\n",
       "      <th>1</th>\n",
       "      <td>41</td>\n",
       "      <td>53430</td>\n",
       "      <td>0.0</td>\n",
       "      <td>27</td>\n",
       "      <td>K1544</td>\n",
       "    </tr>\n",
       "    <tr>\n",
       "      <th>2</th>\n",
       "      <td>64</td>\n",
       "      <td>73163</td>\n",
       "      <td>0.0</td>\n",
       "      <td>32</td>\n",
       "      <td>K1945</td>\n",
       "    </tr>\n",
       "    <tr>\n",
       "      <th>3</th>\n",
       "      <td>41</td>\n",
       "      <td>36761</td>\n",
       "      <td>0.0</td>\n",
       "      <td>44</td>\n",
       "      <td>K1825</td>\n",
       "    </tr>\n",
       "    <tr>\n",
       "      <th>4</th>\n",
       "      <td>35</td>\n",
       "      <td>42684</td>\n",
       "      <td>1.0</td>\n",
       "      <td>33</td>\n",
       "      <td>K1144</td>\n",
       "    </tr>\n",
       "  </tbody>\n",
       "</table>\n",
       "</div>"
      ],
      "text/plain": [
       "   Alter  Einkommen  Geschlecht  Zeit KundeNr\n",
       "0     30      39919         0.0    29   K1814\n",
       "1     41      53430         0.0    27   K1544\n",
       "2     64      73163         0.0    32   K1945\n",
       "3     41      36761         0.0    44   K1825\n",
       "4     35      42684         1.0    33   K1144"
      ]
     },
     "execution_count": 4,
     "metadata": {},
     "output_type": "execute_result"
    }
   ],
   "source": [
    "besucher_df[\"Geschlecht\"] = besucher_df[\"Geschlecht\"].astype(\"float64\")\n",
    "kunden_df[\"Zeit\"] = kunden_df[\"Zeit\"].astype(\"int\")\n",
    "besucher_df[\"Zeit\"] = besucher_df[\"Zeit\"].str.replace(\",\",\".\").astype(\"float\").astype(\"int\")\n",
    "besucher_df[\"Einkommen\"] = besucher_df[\"Einkommen\"].str.replace(\",\",\".\")\n",
    "besucher_df[\"Einkommen\"] = besucher_df[\"Einkommen\"].astype(\"float\").astype(\"int\")\n",
    "kunden_df[\"Einkommen\"] = kunden_df[\"Einkommen\"].astype(\"int\")\n",
    "geo_df[\"Niederlassung\"] = geo_df[\"Niederlassung\"].replace(\"NRW\", \"Nordrhein-Westfalen\")\n",
    "geo_df[\"Niederlassung\"] = geo_df[\"Niederlassung\"].replace([\"Berlin-Charlottenburg\", \"Berlin-Mitte\", \"BERLIN\"], \"Berlin\")\n",
    "\n",
    "besucher_df.head()"
   ]
  },
  {
   "cell_type": "code",
   "execution_count": 5,
   "id": "68b53742",
   "metadata": {},
   "outputs": [
    {
     "data": {
      "text/html": [
       "<div>\n",
       "<style scoped>\n",
       "    .dataframe tbody tr th:only-of-type {\n",
       "        vertical-align: middle;\n",
       "    }\n",
       "\n",
       "    .dataframe tbody tr th {\n",
       "        vertical-align: top;\n",
       "    }\n",
       "\n",
       "    .dataframe thead th {\n",
       "        text-align: right;\n",
       "    }\n",
       "</style>\n",
       "<table border=\"1\" class=\"dataframe\">\n",
       "  <thead>\n",
       "    <tr style=\"text-align: right;\">\n",
       "      <th></th>\n",
       "      <th>Alter</th>\n",
       "      <th>Einkommen</th>\n",
       "      <th>Preis</th>\n",
       "      <th>Geschlecht</th>\n",
       "      <th>Zeit</th>\n",
       "      <th>KundeNr</th>\n",
       "    </tr>\n",
       "  </thead>\n",
       "  <tbody>\n",
       "    <tr>\n",
       "      <th>0</th>\n",
       "      <td>64</td>\n",
       "      <td>66894</td>\n",
       "      <td>88160.31</td>\n",
       "      <td>1.0</td>\n",
       "      <td>43</td>\n",
       "      <td>K0310</td>\n",
       "    </tr>\n",
       "    <tr>\n",
       "      <th>1</th>\n",
       "      <td>54</td>\n",
       "      <td>77644</td>\n",
       "      <td>103145.70</td>\n",
       "      <td>1.0</td>\n",
       "      <td>40</td>\n",
       "      <td>K1042</td>\n",
       "    </tr>\n",
       "    <tr>\n",
       "      <th>2</th>\n",
       "      <td>55</td>\n",
       "      <td>44341</td>\n",
       "      <td>80565.16</td>\n",
       "      <td>0.0</td>\n",
       "      <td>37</td>\n",
       "      <td>K0382</td>\n",
       "    </tr>\n",
       "    <tr>\n",
       "      <th>3</th>\n",
       "      <td>49</td>\n",
       "      <td>67271</td>\n",
       "      <td>83949.89</td>\n",
       "      <td>0.0</td>\n",
       "      <td>42</td>\n",
       "      <td>K0498</td>\n",
       "    </tr>\n",
       "    <tr>\n",
       "      <th>4</th>\n",
       "      <td>46</td>\n",
       "      <td>49832</td>\n",
       "      <td>93781.58</td>\n",
       "      <td>0.0</td>\n",
       "      <td>41</td>\n",
       "      <td>K0552</td>\n",
       "    </tr>\n",
       "  </tbody>\n",
       "</table>\n",
       "</div>"
      ],
      "text/plain": [
       "   Alter  Einkommen      Preis  Geschlecht  Zeit KundeNr\n",
       "0     64      66894   88160.31         1.0    43   K0310\n",
       "1     54      77644  103145.70         1.0    40   K1042\n",
       "2     55      44341   80565.16         0.0    37   K0382\n",
       "3     49      67271   83949.89         0.0    42   K0498\n",
       "4     46      49832   93781.58         0.0    41   K0552"
      ]
     },
     "execution_count": 5,
     "metadata": {},
     "output_type": "execute_result"
    }
   ],
   "source": [
    "kunden_df.head()"
   ]
  },
  {
   "cell_type": "code",
   "execution_count": 6,
   "id": "39780db8",
   "metadata": {},
   "outputs": [
    {
     "data": {
      "text/html": [
       "<div>\n",
       "<style scoped>\n",
       "    .dataframe tbody tr th:only-of-type {\n",
       "        vertical-align: middle;\n",
       "    }\n",
       "\n",
       "    .dataframe tbody tr th {\n",
       "        vertical-align: top;\n",
       "    }\n",
       "\n",
       "    .dataframe thead th {\n",
       "        text-align: right;\n",
       "    }\n",
       "</style>\n",
       "<table border=\"1\" class=\"dataframe\">\n",
       "  <thead>\n",
       "    <tr style=\"text-align: right;\">\n",
       "      <th></th>\n",
       "      <th>Alter</th>\n",
       "      <th>Einkommen</th>\n",
       "      <th>Geschlecht</th>\n",
       "      <th>Zeit</th>\n",
       "      <th>KundeNr</th>\n",
       "      <th>Preis</th>\n",
       "      <th>Niederlassung</th>\n",
       "    </tr>\n",
       "  </thead>\n",
       "  <tbody>\n",
       "    <tr>\n",
       "      <th>0</th>\n",
       "      <td>30</td>\n",
       "      <td>39919</td>\n",
       "      <td>0.0</td>\n",
       "      <td>29</td>\n",
       "      <td>K1814</td>\n",
       "      <td>NaN</td>\n",
       "      <td>Bayern</td>\n",
       "    </tr>\n",
       "    <tr>\n",
       "      <th>1</th>\n",
       "      <td>41</td>\n",
       "      <td>53430</td>\n",
       "      <td>0.0</td>\n",
       "      <td>27</td>\n",
       "      <td>K1544</td>\n",
       "      <td>NaN</td>\n",
       "      <td>Baden-Württemberg</td>\n",
       "    </tr>\n",
       "    <tr>\n",
       "      <th>2</th>\n",
       "      <td>64</td>\n",
       "      <td>73163</td>\n",
       "      <td>0.0</td>\n",
       "      <td>32</td>\n",
       "      <td>K1945</td>\n",
       "      <td>NaN</td>\n",
       "      <td>Baden-Württemberg</td>\n",
       "    </tr>\n",
       "    <tr>\n",
       "      <th>3</th>\n",
       "      <td>41</td>\n",
       "      <td>36761</td>\n",
       "      <td>0.0</td>\n",
       "      <td>44</td>\n",
       "      <td>K1825</td>\n",
       "      <td>NaN</td>\n",
       "      <td>Baden-Württemberg</td>\n",
       "    </tr>\n",
       "    <tr>\n",
       "      <th>4</th>\n",
       "      <td>35</td>\n",
       "      <td>42684</td>\n",
       "      <td>1.0</td>\n",
       "      <td>33</td>\n",
       "      <td>K1144</td>\n",
       "      <td>NaN</td>\n",
       "      <td>Nordrhein-Westfalen</td>\n",
       "    </tr>\n",
       "    <tr>\n",
       "      <th>...</th>\n",
       "      <td>...</td>\n",
       "      <td>...</td>\n",
       "      <td>...</td>\n",
       "      <td>...</td>\n",
       "      <td>...</td>\n",
       "      <td>...</td>\n",
       "      <td>...</td>\n",
       "    </tr>\n",
       "    <tr>\n",
       "      <th>1990</th>\n",
       "      <td>70</td>\n",
       "      <td>69581</td>\n",
       "      <td>1.0</td>\n",
       "      <td>51</td>\n",
       "      <td>K0467</td>\n",
       "      <td>103751.58</td>\n",
       "      <td>Thüringen</td>\n",
       "    </tr>\n",
       "    <tr>\n",
       "      <th>1991</th>\n",
       "      <td>38</td>\n",
       "      <td>48301</td>\n",
       "      <td>1.0</td>\n",
       "      <td>33</td>\n",
       "      <td>K0122</td>\n",
       "      <td>64230.98</td>\n",
       "      <td>Niedersachsen</td>\n",
       "    </tr>\n",
       "    <tr>\n",
       "      <th>1992</th>\n",
       "      <td>67</td>\n",
       "      <td>63547</td>\n",
       "      <td>1.0</td>\n",
       "      <td>41</td>\n",
       "      <td>K1045</td>\n",
       "      <td>103123.57</td>\n",
       "      <td>Berlin</td>\n",
       "    </tr>\n",
       "    <tr>\n",
       "      <th>1993</th>\n",
       "      <td>37</td>\n",
       "      <td>32686</td>\n",
       "      <td>1.0</td>\n",
       "      <td>36</td>\n",
       "      <td>K1096</td>\n",
       "      <td>49215.87</td>\n",
       "      <td>Baden-Württemberg</td>\n",
       "    </tr>\n",
       "    <tr>\n",
       "      <th>1994</th>\n",
       "      <td>55</td>\n",
       "      <td>71240</td>\n",
       "      <td>1.0</td>\n",
       "      <td>49</td>\n",
       "      <td>K0861</td>\n",
       "      <td>106132.59</td>\n",
       "      <td>Bayern</td>\n",
       "    </tr>\n",
       "  </tbody>\n",
       "</table>\n",
       "<p>1995 rows × 7 columns</p>\n",
       "</div>"
      ],
      "text/plain": [
       "      Alter  Einkommen  Geschlecht  Zeit KundeNr      Preis  \\\n",
       "0        30      39919         0.0    29   K1814        NaN   \n",
       "1        41      53430         0.0    27   K1544        NaN   \n",
       "2        64      73163         0.0    32   K1945        NaN   \n",
       "3        41      36761         0.0    44   K1825        NaN   \n",
       "4        35      42684         1.0    33   K1144        NaN   \n",
       "...     ...        ...         ...   ...     ...        ...   \n",
       "1990     70      69581         1.0    51   K0467  103751.58   \n",
       "1991     38      48301         1.0    33   K0122   64230.98   \n",
       "1992     67      63547         1.0    41   K1045  103123.57   \n",
       "1993     37      32686         1.0    36   K1096   49215.87   \n",
       "1994     55      71240         1.0    49   K0861  106132.59   \n",
       "\n",
       "            Niederlassung  \n",
       "0                  Bayern  \n",
       "1       Baden-Württemberg  \n",
       "2       Baden-Württemberg  \n",
       "3       Baden-Württemberg  \n",
       "4     Nordrhein-Westfalen  \n",
       "...                   ...  \n",
       "1990            Thüringen  \n",
       "1991        Niedersachsen  \n",
       "1992               Berlin  \n",
       "1993    Baden-Württemberg  \n",
       "1994               Bayern  \n",
       "\n",
       "[1995 rows x 7 columns]"
      ]
     },
     "execution_count": 6,
     "metadata": {},
     "output_type": "execute_result"
    }
   ],
   "source": [
    "merge_1 = pd.concat([besucher_df, kunden_df], ignore_index = True)\n",
    "data_df = pd.merge(merge_1, geo_df, on = \"KundeNr\")\n",
    "data_df"
   ]
  },
  {
   "cell_type": "code",
   "execution_count": 7,
   "id": "4d05eb83",
   "metadata": {},
   "outputs": [
    {
     "data": {
      "text/plain": [
       "11"
      ]
     },
     "execution_count": 7,
     "metadata": {},
     "output_type": "execute_result"
    }
   ],
   "source": [
    "Niederlassung_count = geo_df[\"Niederlassung\"].nunique()\n",
    "Niederlassung_count"
   ]
  },
  {
   "cell_type": "code",
   "execution_count": 8,
   "id": "eb6cf597",
   "metadata": {},
   "outputs": [
    {
     "data": {
      "text/plain": [
       "array(['Sachsen', 'Nordrhein-Westfalen', 'Hessen', 'Bayern',\n",
       "       'Baden-Württemberg', 'Berlin', 'Niedersachsen', 'Brandenburg',\n",
       "       'Thüringen', 'Hamburg', 'Düsseldorf'], dtype=object)"
      ]
     },
     "execution_count": 8,
     "metadata": {},
     "output_type": "execute_result"
    }
   ],
   "source": [
    "Niederlassungen_list = geo_df[\"Niederlassung\"].unique()\n",
    "Niederlassungen_list"
   ]
  },
  {
   "cell_type": "code",
   "execution_count": 9,
   "id": "9294b72f",
   "metadata": {},
   "outputs": [
    {
     "data": {
      "text/plain": [
       "Alter              0\n",
       "Einkommen          0\n",
       "Geschlecht         5\n",
       "Zeit               0\n",
       "KundeNr            0\n",
       "Preis            891\n",
       "Niederlassung      0\n",
       "dtype: int64"
      ]
     },
     "execution_count": 9,
     "metadata": {},
     "output_type": "execute_result"
    }
   ],
   "source": [
    "data_df.isnull().sum()"
   ]
  },
  {
   "cell_type": "markdown",
   "id": "47364c99",
   "metadata": {},
   "source": [
    "# Outlier behandeln"
   ]
  },
  {
   "cell_type": "code",
   "execution_count": 10,
   "id": "a9a5fa18",
   "metadata": {},
   "outputs": [],
   "source": [
    "# hier wurde bei allen ohne Eintrag beim Geschlecht eine \"1\" euingefügt, weil es mehr Männder als Frauen im Datensatz gibt\n",
    "data_df['Geschlecht'] = data_df['Geschlecht'].fillna(\"1\")"
   ]
  },
  {
   "cell_type": "code",
   "execution_count": 11,
   "id": "d5a7d0ed",
   "metadata": {},
   "outputs": [
    {
     "data": {
      "text/plain": [
       "Alter              0\n",
       "Einkommen          0\n",
       "Geschlecht         0\n",
       "Zeit               0\n",
       "KundeNr            0\n",
       "Preis            891\n",
       "Niederlassung      0\n",
       "dtype: int64"
      ]
     },
     "execution_count": 11,
     "metadata": {},
     "output_type": "execute_result"
    }
   ],
   "source": [
    "data_df.isnull().sum()"
   ]
  },
  {
   "cell_type": "code",
   "execution_count": 12,
   "id": "85e35adf",
   "metadata": {},
   "outputs": [
    {
     "data": {
      "text/plain": [
       "Alter              int64\n",
       "Einkommen          int32\n",
       "Geschlecht        object\n",
       "Zeit               int32\n",
       "KundeNr           object\n",
       "Preis            float64\n",
       "Niederlassung     object\n",
       "dtype: object"
      ]
     },
     "execution_count": 12,
     "metadata": {},
     "output_type": "execute_result"
    }
   ],
   "source": [
    "data_df.dtypes"
   ]
  },
  {
   "cell_type": "code",
   "execution_count": 13,
   "id": "a31dcad3",
   "metadata": {
    "scrolled": false
   },
   "outputs": [
    {
     "data": {
      "text/plain": [
       "Alter              0\n",
       "Einkommen          0\n",
       "Geschlecht         0\n",
       "Zeit               0\n",
       "KundeNr            0\n",
       "Preis            891\n",
       "Niederlassung      0\n",
       "dtype: int64"
      ]
     },
     "execution_count": 13,
     "metadata": {},
     "output_type": "execute_result"
    }
   ],
   "source": [
    "# Hier wurde das Einkommen von 3 Kunden auf den Median gesetzt und das Alter von 2 wurden auf den Durchschnitt gesetzt \n",
    "data_df.loc[data_df['KundeNr'].isin([\"K0701\", \"K1021\", \"K1083\"]), 'Einkommen'] = int(data_df['Einkommen'].median())\n",
    "data_df.loc[data_df['KundeNr'].isin([\"K0039\", \"K0494\"]), 'Alter'] = int(data_df['Alter'].mean())\n",
    "\n",
    "data_df.isnull().sum()"
   ]
  },
  {
   "cell_type": "code",
   "execution_count": 14,
   "id": "96ceddb3",
   "metadata": {},
   "outputs": [
    {
     "data": {
      "text/html": [
       "<div>\n",
       "<style scoped>\n",
       "    .dataframe tbody tr th:only-of-type {\n",
       "        vertical-align: middle;\n",
       "    }\n",
       "\n",
       "    .dataframe tbody tr th {\n",
       "        vertical-align: top;\n",
       "    }\n",
       "\n",
       "    .dataframe thead th {\n",
       "        text-align: right;\n",
       "    }\n",
       "</style>\n",
       "<table border=\"1\" class=\"dataframe\">\n",
       "  <thead>\n",
       "    <tr style=\"text-align: right;\">\n",
       "      <th></th>\n",
       "      <th>Alter</th>\n",
       "      <th>Einkommen</th>\n",
       "      <th>Geschlecht</th>\n",
       "      <th>Zeit</th>\n",
       "      <th>KundeNr</th>\n",
       "      <th>Preis</th>\n",
       "      <th>Niederlassung</th>\n",
       "    </tr>\n",
       "  </thead>\n",
       "  <tbody>\n",
       "    <tr>\n",
       "      <th>1973</th>\n",
       "      <td>59</td>\n",
       "      <td>59104</td>\n",
       "      <td>0.0</td>\n",
       "      <td>46</td>\n",
       "      <td>K1083</td>\n",
       "      <td>92837.59</td>\n",
       "      <td>Baden-Württemberg</td>\n",
       "    </tr>\n",
       "  </tbody>\n",
       "</table>\n",
       "</div>"
      ],
      "text/plain": [
       "      Alter  Einkommen Geschlecht  Zeit KundeNr     Preis      Niederlassung\n",
       "1973     59      59104        0.0    46   K1083  92837.59  Baden-Württemberg"
      ]
     },
     "execution_count": 14,
     "metadata": {},
     "output_type": "execute_result"
    }
   ],
   "source": [
    "result = data_df[data_df['KundeNr'] == \"K1083\"]\n",
    "result"
   ]
  },
  {
   "cell_type": "code",
   "execution_count": 15,
   "id": "9771906c",
   "metadata": {},
   "outputs": [],
   "source": [
    "data_df.to_csv(\"data/Datensatz.csv\", sep = \",\", decimal = \".\")"
   ]
  }
 ],
 "metadata": {
  "kernelspec": {
   "display_name": "Python 3 (ipykernel)",
   "language": "python",
   "name": "python3"
  },
  "language_info": {
   "codemirror_mode": {
    "name": "ipython",
    "version": 3
   },
   "file_extension": ".py",
   "mimetype": "text/x-python",
   "name": "python",
   "nbconvert_exporter": "python",
   "pygments_lexer": "ipython3",
   "version": "3.11.5"
  }
 },
 "nbformat": 4,
 "nbformat_minor": 5
}
